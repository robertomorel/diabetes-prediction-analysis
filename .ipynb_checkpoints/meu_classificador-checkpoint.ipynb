{
 "cells": [
  {
   "cell_type": "code",
   "execution_count": 4,
   "metadata": {},
   "outputs": [],
   "source": [
    "import pandas as pd\n",
    "import numpy as np \n",
    "import pycaret\n",
    "import plotly\n",
    "import matplotlib.pyplot as plt\n",
    "from pycaret.datasets import get_data\n",
    "from pandas_profiling import ProfileReport\n",
    "\n",
    "plt.style.use('ggplot')"
   ]
  },
  {
   "cell_type": "markdown",
   "metadata": {},
   "source": [
    "## Carregando os dados"
   ]
  },
  {
   "cell_type": "code",
   "execution_count": 5,
   "metadata": {},
   "outputs": [],
   "source": [
    "df_bruto = pd.read_csv('healthcare-dataset-stroke-data.csv', encoding='latin1')"
   ]
  },
  {
   "cell_type": "code",
   "execution_count": 6,
   "metadata": {},
   "outputs": [
    {
     "data": {
      "text/html": [
       "<div>\n",
       "<style scoped>\n",
       "    .dataframe tbody tr th:only-of-type {\n",
       "        vertical-align: middle;\n",
       "    }\n",
       "\n",
       "    .dataframe tbody tr th {\n",
       "        vertical-align: top;\n",
       "    }\n",
       "\n",
       "    .dataframe thead th {\n",
       "        text-align: right;\n",
       "    }\n",
       "</style>\n",
       "<table border=\"1\" class=\"dataframe\">\n",
       "  <thead>\n",
       "    <tr style=\"text-align: right;\">\n",
       "      <th></th>\n",
       "      <th>id</th>\n",
       "      <th>gender</th>\n",
       "      <th>age</th>\n",
       "      <th>hypertension</th>\n",
       "      <th>heart_disease</th>\n",
       "      <th>ever_married</th>\n",
       "      <th>work_type</th>\n",
       "      <th>Residence_type</th>\n",
       "      <th>avg_glucose_level</th>\n",
       "      <th>bmi</th>\n",
       "      <th>smoking_status</th>\n",
       "      <th>stroke</th>\n",
       "    </tr>\n",
       "  </thead>\n",
       "  <tbody>\n",
       "    <tr>\n",
       "      <th>0</th>\n",
       "      <td>9046</td>\n",
       "      <td>Male</td>\n",
       "      <td>67.0</td>\n",
       "      <td>0</td>\n",
       "      <td>1</td>\n",
       "      <td>Yes</td>\n",
       "      <td>Private</td>\n",
       "      <td>Urban</td>\n",
       "      <td>228.69</td>\n",
       "      <td>36.6</td>\n",
       "      <td>formerly smoked</td>\n",
       "      <td>1</td>\n",
       "    </tr>\n",
       "    <tr>\n",
       "      <th>1</th>\n",
       "      <td>51676</td>\n",
       "      <td>Female</td>\n",
       "      <td>61.0</td>\n",
       "      <td>0</td>\n",
       "      <td>0</td>\n",
       "      <td>Yes</td>\n",
       "      <td>Self-employed</td>\n",
       "      <td>Rural</td>\n",
       "      <td>202.21</td>\n",
       "      <td>NaN</td>\n",
       "      <td>never smoked</td>\n",
       "      <td>1</td>\n",
       "    </tr>\n",
       "    <tr>\n",
       "      <th>2</th>\n",
       "      <td>31112</td>\n",
       "      <td>Male</td>\n",
       "      <td>80.0</td>\n",
       "      <td>0</td>\n",
       "      <td>1</td>\n",
       "      <td>Yes</td>\n",
       "      <td>Private</td>\n",
       "      <td>Rural</td>\n",
       "      <td>105.92</td>\n",
       "      <td>32.5</td>\n",
       "      <td>never smoked</td>\n",
       "      <td>1</td>\n",
       "    </tr>\n",
       "    <tr>\n",
       "      <th>3</th>\n",
       "      <td>60182</td>\n",
       "      <td>Female</td>\n",
       "      <td>49.0</td>\n",
       "      <td>0</td>\n",
       "      <td>0</td>\n",
       "      <td>Yes</td>\n",
       "      <td>Private</td>\n",
       "      <td>Urban</td>\n",
       "      <td>171.23</td>\n",
       "      <td>34.4</td>\n",
       "      <td>smokes</td>\n",
       "      <td>1</td>\n",
       "    </tr>\n",
       "    <tr>\n",
       "      <th>4</th>\n",
       "      <td>1665</td>\n",
       "      <td>Female</td>\n",
       "      <td>79.0</td>\n",
       "      <td>1</td>\n",
       "      <td>0</td>\n",
       "      <td>Yes</td>\n",
       "      <td>Self-employed</td>\n",
       "      <td>Rural</td>\n",
       "      <td>174.12</td>\n",
       "      <td>24.0</td>\n",
       "      <td>never smoked</td>\n",
       "      <td>1</td>\n",
       "    </tr>\n",
       "  </tbody>\n",
       "</table>\n",
       "</div>"
      ],
      "text/plain": [
       "      id  gender   age  hypertension  heart_disease ever_married  \\\n",
       "0   9046    Male  67.0             0              1          Yes   \n",
       "1  51676  Female  61.0             0              0          Yes   \n",
       "2  31112    Male  80.0             0              1          Yes   \n",
       "3  60182  Female  49.0             0              0          Yes   \n",
       "4   1665  Female  79.0             1              0          Yes   \n",
       "\n",
       "       work_type Residence_type  avg_glucose_level   bmi   smoking_status  \\\n",
       "0        Private          Urban             228.69  36.6  formerly smoked   \n",
       "1  Self-employed          Rural             202.21   NaN     never smoked   \n",
       "2        Private          Rural             105.92  32.5     never smoked   \n",
       "3        Private          Urban             171.23  34.4           smokes   \n",
       "4  Self-employed          Rural             174.12  24.0     never smoked   \n",
       "\n",
       "   stroke  \n",
       "0       1  \n",
       "1       1  \n",
       "2       1  \n",
       "3       1  \n",
       "4       1  "
      ]
     },
     "execution_count": 6,
     "metadata": {},
     "output_type": "execute_result"
    }
   ],
   "source": [
    "df_bruto.head()"
   ]
  },
  {
   "cell_type": "markdown",
   "metadata": {},
   "source": [
    "### Gerando o Report do Banco de Dados"
   ]
  },
  {
   "cell_type": "code",
   "execution_count": 7,
   "metadata": {},
   "outputs": [],
   "source": [
    "profile = ProfileReport(df_bruto, title='Profiling Strokes',html={'style':{'full_width':True}})"
   ]
  },
  {
   "cell_type": "markdown",
   "metadata": {},
   "source": [
    "#### Exportando o Arquivo"
   ]
  },
  {
   "cell_type": "code",
   "execution_count": 8,
   "metadata": {
    "scrolled": true
   },
   "outputs": [
    {
     "data": {
      "application/vnd.jupyter.widget-view+json": {
       "model_id": "1489043fee6d49fcb4d318e0090529a9",
       "version_major": 2,
       "version_minor": 0
      },
      "text/plain": [
       "Summarize dataset:   0%|          | 0/25 [00:00<?, ?it/s]"
      ]
     },
     "metadata": {},
     "output_type": "display_data"
    },
    {
     "data": {
      "application/vnd.jupyter.widget-view+json": {
       "model_id": "273a4f2d0dfd427990dd1db2c3c1a81d",
       "version_major": 2,
       "version_minor": 0
      },
      "text/plain": [
       "Generate report structure:   0%|          | 0/1 [00:00<?, ?it/s]"
      ]
     },
     "metadata": {},
     "output_type": "display_data"
    },
    {
     "data": {
      "application/vnd.jupyter.widget-view+json": {
       "model_id": "7c8b7c935c9c42138f94c6ff3b37c4f8",
       "version_major": 2,
       "version_minor": 0
      },
      "text/plain": [
       "Render HTML:   0%|          | 0/1 [00:00<?, ?it/s]"
      ]
     },
     "metadata": {},
     "output_type": "display_data"
    },
    {
     "data": {
      "application/vnd.jupyter.widget-view+json": {
       "model_id": "c497e65b7c684ad09d03ae9c9eb4b0fb",
       "version_major": 2,
       "version_minor": 0
      },
      "text/plain": [
       "Export report to file:   0%|          | 0/1 [00:00<?, ?it/s]"
      ]
     },
     "metadata": {},
     "output_type": "display_data"
    }
   ],
   "source": [
    "profile.to_file('dataframe_report.html')"
   ]
  },
  {
   "cell_type": "markdown",
   "metadata": {},
   "source": [
    "#### Visualização no Jupyter notebook"
   ]
  },
  {
   "cell_type": "raw",
   "metadata": {},
   "source": [
    "profile.to_notebook_iframe()"
   ]
  },
  {
   "cell_type": "markdown",
   "metadata": {},
   "source": [
    "## Desenvolvimento do Modelo de Classificação - Pycaret "
   ]
  },
  {
   "cell_type": "markdown",
   "metadata": {},
   "source": [
    "# Todo:\n",
    "    - Os dados não são do mesmo tamanho. Testar se, como os dados rebalanceados, o modelo fica melhor."
   ]
  },
  {
   "cell_type": "markdown",
   "metadata": {},
   "source": [
    "### Inicio"
   ]
  },
  {
   "cell_type": "markdown",
   "metadata": {},
   "source": [
    "#### Separando dados para avaliação do Modelo"
   ]
  },
  {
   "cell_type": "code",
   "execution_count": 30,
   "metadata": {},
   "outputs": [],
   "source": [
    "from sklearn.model_selection import train_test_split "
   ]
  },
  {
   "cell_type": "code",
   "execution_count": 31,
   "metadata": {},
   "outputs": [],
   "source": [
    "df, df_valid = train_test_split(\n",
    "    df_bruto,\n",
    "    test_size= 0.2,\n",
    "    stratify= df_bruto['stroke'],\n",
    "    random_state= 123\n",
    ")"
   ]
  },
  {
   "cell_type": "markdown",
   "metadata": {},
   "source": [
    "As proporções são mantidas"
   ]
  },
  {
   "cell_type": "code",
   "execution_count": 32,
   "metadata": {},
   "outputs": [],
   "source": [
    "df.reset_index(inplace=True, drop=True)"
   ]
  },
  {
   "cell_type": "code",
   "execution_count": 33,
   "metadata": {},
   "outputs": [
    {
     "data": {
      "text/plain": [
       "0.051169966572383645"
      ]
     },
     "execution_count": 33,
     "metadata": {},
     "output_type": "execute_result"
    }
   ],
   "source": [
    "df.groupby(['stroke']).id.count()[1]/df.groupby(['stroke']).id.count()[0]"
   ]
  },
  {
   "cell_type": "code",
   "execution_count": 34,
   "metadata": {},
   "outputs": [],
   "source": [
    "df_valid.reset_index(inplace=True, drop=True)"
   ]
  },
  {
   "cell_type": "code",
   "execution_count": 35,
   "metadata": {},
   "outputs": [
    {
     "data": {
      "text/plain": [
       "0.051440329218107"
      ]
     },
     "execution_count": 35,
     "metadata": {},
     "output_type": "execute_result"
    }
   ],
   "source": [
    "df_valid.groupby(['stroke']).id.count()[1]/df_valid.groupby(['stroke']).id.count()[0]"
   ]
  },
  {
   "cell_type": "markdown",
   "metadata": {},
   "source": [
    "### Configuração do Ambiente"
   ]
  },
  {
   "cell_type": "code",
   "execution_count": 15,
   "metadata": {},
   "outputs": [],
   "source": [
    "from pycaret.classification import *"
   ]
  },
  {
   "cell_type": "code",
   "execution_count": 16,
   "metadata": {
    "scrolled": true
   },
   "outputs": [
    {
     "data": {
      "text/html": [
       "<style  type=\"text/css\" >\n",
       "#T_f5340_row5_col1{\n",
       "            background-color:  lightgreen;\n",
       "        }</style><table id=\"T_f5340_\" ><thead>    <tr>        <th class=\"blank level0\" ></th>        <th class=\"col_heading level0 col0\" >Description</th>        <th class=\"col_heading level0 col1\" >Value</th>    </tr></thead><tbody>\n",
       "                <tr>\n",
       "                        <th id=\"T_f5340_level0_row0\" class=\"row_heading level0 row0\" >0</th>\n",
       "                        <td id=\"T_f5340_row0_col0\" class=\"data row0 col0\" >session_id</td>\n",
       "                        <td id=\"T_f5340_row0_col1\" class=\"data row0 col1\" >123</td>\n",
       "            </tr>\n",
       "            <tr>\n",
       "                        <th id=\"T_f5340_level0_row1\" class=\"row_heading level0 row1\" >1</th>\n",
       "                        <td id=\"T_f5340_row1_col0\" class=\"data row1 col0\" >Target</td>\n",
       "                        <td id=\"T_f5340_row1_col1\" class=\"data row1 col1\" >stroke</td>\n",
       "            </tr>\n",
       "            <tr>\n",
       "                        <th id=\"T_f5340_level0_row2\" class=\"row_heading level0 row2\" >2</th>\n",
       "                        <td id=\"T_f5340_row2_col0\" class=\"data row2 col0\" >Target Type</td>\n",
       "                        <td id=\"T_f5340_row2_col1\" class=\"data row2 col1\" >Binary</td>\n",
       "            </tr>\n",
       "            <tr>\n",
       "                        <th id=\"T_f5340_level0_row3\" class=\"row_heading level0 row3\" >3</th>\n",
       "                        <td id=\"T_f5340_row3_col0\" class=\"data row3 col0\" >Label Encoded</td>\n",
       "                        <td id=\"T_f5340_row3_col1\" class=\"data row3 col1\" >0: 0, 1: 1</td>\n",
       "            </tr>\n",
       "            <tr>\n",
       "                        <th id=\"T_f5340_level0_row4\" class=\"row_heading level0 row4\" >4</th>\n",
       "                        <td id=\"T_f5340_row4_col0\" class=\"data row4 col0\" >Original Data</td>\n",
       "                        <td id=\"T_f5340_row4_col1\" class=\"data row4 col1\" >(4088, 12)</td>\n",
       "            </tr>\n",
       "            <tr>\n",
       "                        <th id=\"T_f5340_level0_row5\" class=\"row_heading level0 row5\" >5</th>\n",
       "                        <td id=\"T_f5340_row5_col0\" class=\"data row5 col0\" >Missing Values</td>\n",
       "                        <td id=\"T_f5340_row5_col1\" class=\"data row5 col1\" >True</td>\n",
       "            </tr>\n",
       "            <tr>\n",
       "                        <th id=\"T_f5340_level0_row6\" class=\"row_heading level0 row6\" >6</th>\n",
       "                        <td id=\"T_f5340_row6_col0\" class=\"data row6 col0\" >Numeric Features</td>\n",
       "                        <td id=\"T_f5340_row6_col1\" class=\"data row6 col1\" >4</td>\n",
       "            </tr>\n",
       "            <tr>\n",
       "                        <th id=\"T_f5340_level0_row7\" class=\"row_heading level0 row7\" >7</th>\n",
       "                        <td id=\"T_f5340_row7_col0\" class=\"data row7 col0\" >Categorical Features</td>\n",
       "                        <td id=\"T_f5340_row7_col1\" class=\"data row7 col1\" >7</td>\n",
       "            </tr>\n",
       "            <tr>\n",
       "                        <th id=\"T_f5340_level0_row8\" class=\"row_heading level0 row8\" >8</th>\n",
       "                        <td id=\"T_f5340_row8_col0\" class=\"data row8 col0\" >Ordinal Features</td>\n",
       "                        <td id=\"T_f5340_row8_col1\" class=\"data row8 col1\" >False</td>\n",
       "            </tr>\n",
       "            <tr>\n",
       "                        <th id=\"T_f5340_level0_row9\" class=\"row_heading level0 row9\" >9</th>\n",
       "                        <td id=\"T_f5340_row9_col0\" class=\"data row9 col0\" >High Cardinality Features</td>\n",
       "                        <td id=\"T_f5340_row9_col1\" class=\"data row9 col1\" >False</td>\n",
       "            </tr>\n",
       "            <tr>\n",
       "                        <th id=\"T_f5340_level0_row10\" class=\"row_heading level0 row10\" >10</th>\n",
       "                        <td id=\"T_f5340_row10_col0\" class=\"data row10 col0\" >High Cardinality Method</td>\n",
       "                        <td id=\"T_f5340_row10_col1\" class=\"data row10 col1\" >None</td>\n",
       "            </tr>\n",
       "            <tr>\n",
       "                        <th id=\"T_f5340_level0_row11\" class=\"row_heading level0 row11\" >11</th>\n",
       "                        <td id=\"T_f5340_row11_col0\" class=\"data row11 col0\" >Transformed Train Set</td>\n",
       "                        <td id=\"T_f5340_row11_col1\" class=\"data row11 col1\" >(2861, 19)</td>\n",
       "            </tr>\n",
       "            <tr>\n",
       "                        <th id=\"T_f5340_level0_row12\" class=\"row_heading level0 row12\" >12</th>\n",
       "                        <td id=\"T_f5340_row12_col0\" class=\"data row12 col0\" >Transformed Test Set</td>\n",
       "                        <td id=\"T_f5340_row12_col1\" class=\"data row12 col1\" >(1227, 19)</td>\n",
       "            </tr>\n",
       "            <tr>\n",
       "                        <th id=\"T_f5340_level0_row13\" class=\"row_heading level0 row13\" >13</th>\n",
       "                        <td id=\"T_f5340_row13_col0\" class=\"data row13 col0\" >Shuffle Train-Test</td>\n",
       "                        <td id=\"T_f5340_row13_col1\" class=\"data row13 col1\" >True</td>\n",
       "            </tr>\n",
       "            <tr>\n",
       "                        <th id=\"T_f5340_level0_row14\" class=\"row_heading level0 row14\" >14</th>\n",
       "                        <td id=\"T_f5340_row14_col0\" class=\"data row14 col0\" >Stratify Train-Test</td>\n",
       "                        <td id=\"T_f5340_row14_col1\" class=\"data row14 col1\" >False</td>\n",
       "            </tr>\n",
       "            <tr>\n",
       "                        <th id=\"T_f5340_level0_row15\" class=\"row_heading level0 row15\" >15</th>\n",
       "                        <td id=\"T_f5340_row15_col0\" class=\"data row15 col0\" >Fold Generator</td>\n",
       "                        <td id=\"T_f5340_row15_col1\" class=\"data row15 col1\" >StratifiedKFold</td>\n",
       "            </tr>\n",
       "            <tr>\n",
       "                        <th id=\"T_f5340_level0_row16\" class=\"row_heading level0 row16\" >16</th>\n",
       "                        <td id=\"T_f5340_row16_col0\" class=\"data row16 col0\" >Fold Number</td>\n",
       "                        <td id=\"T_f5340_row16_col1\" class=\"data row16 col1\" >10</td>\n",
       "            </tr>\n",
       "            <tr>\n",
       "                        <th id=\"T_f5340_level0_row17\" class=\"row_heading level0 row17\" >17</th>\n",
       "                        <td id=\"T_f5340_row17_col0\" class=\"data row17 col0\" >CPU Jobs</td>\n",
       "                        <td id=\"T_f5340_row17_col1\" class=\"data row17 col1\" >-1</td>\n",
       "            </tr>\n",
       "            <tr>\n",
       "                        <th id=\"T_f5340_level0_row18\" class=\"row_heading level0 row18\" >18</th>\n",
       "                        <td id=\"T_f5340_row18_col0\" class=\"data row18 col0\" >Use GPU</td>\n",
       "                        <td id=\"T_f5340_row18_col1\" class=\"data row18 col1\" >False</td>\n",
       "            </tr>\n",
       "            <tr>\n",
       "                        <th id=\"T_f5340_level0_row19\" class=\"row_heading level0 row19\" >19</th>\n",
       "                        <td id=\"T_f5340_row19_col0\" class=\"data row19 col0\" >Log Experiment</td>\n",
       "                        <td id=\"T_f5340_row19_col1\" class=\"data row19 col1\" >False</td>\n",
       "            </tr>\n",
       "            <tr>\n",
       "                        <th id=\"T_f5340_level0_row20\" class=\"row_heading level0 row20\" >20</th>\n",
       "                        <td id=\"T_f5340_row20_col0\" class=\"data row20 col0\" >Experiment Name</td>\n",
       "                        <td id=\"T_f5340_row20_col1\" class=\"data row20 col1\" >clf-default-name</td>\n",
       "            </tr>\n",
       "            <tr>\n",
       "                        <th id=\"T_f5340_level0_row21\" class=\"row_heading level0 row21\" >21</th>\n",
       "                        <td id=\"T_f5340_row21_col0\" class=\"data row21 col0\" >USI</td>\n",
       "                        <td id=\"T_f5340_row21_col1\" class=\"data row21 col1\" >d295</td>\n",
       "            </tr>\n",
       "            <tr>\n",
       "                        <th id=\"T_f5340_level0_row22\" class=\"row_heading level0 row22\" >22</th>\n",
       "                        <td id=\"T_f5340_row22_col0\" class=\"data row22 col0\" >Imputation Type</td>\n",
       "                        <td id=\"T_f5340_row22_col1\" class=\"data row22 col1\" >simple</td>\n",
       "            </tr>\n",
       "            <tr>\n",
       "                        <th id=\"T_f5340_level0_row23\" class=\"row_heading level0 row23\" >23</th>\n",
       "                        <td id=\"T_f5340_row23_col0\" class=\"data row23 col0\" >Iterative Imputation Iteration</td>\n",
       "                        <td id=\"T_f5340_row23_col1\" class=\"data row23 col1\" >None</td>\n",
       "            </tr>\n",
       "            <tr>\n",
       "                        <th id=\"T_f5340_level0_row24\" class=\"row_heading level0 row24\" >24</th>\n",
       "                        <td id=\"T_f5340_row24_col0\" class=\"data row24 col0\" >Numeric Imputer</td>\n",
       "                        <td id=\"T_f5340_row24_col1\" class=\"data row24 col1\" >mean</td>\n",
       "            </tr>\n",
       "            <tr>\n",
       "                        <th id=\"T_f5340_level0_row25\" class=\"row_heading level0 row25\" >25</th>\n",
       "                        <td id=\"T_f5340_row25_col0\" class=\"data row25 col0\" >Iterative Imputation Numeric Model</td>\n",
       "                        <td id=\"T_f5340_row25_col1\" class=\"data row25 col1\" >None</td>\n",
       "            </tr>\n",
       "            <tr>\n",
       "                        <th id=\"T_f5340_level0_row26\" class=\"row_heading level0 row26\" >26</th>\n",
       "                        <td id=\"T_f5340_row26_col0\" class=\"data row26 col0\" >Categorical Imputer</td>\n",
       "                        <td id=\"T_f5340_row26_col1\" class=\"data row26 col1\" >constant</td>\n",
       "            </tr>\n",
       "            <tr>\n",
       "                        <th id=\"T_f5340_level0_row27\" class=\"row_heading level0 row27\" >27</th>\n",
       "                        <td id=\"T_f5340_row27_col0\" class=\"data row27 col0\" >Iterative Imputation Categorical Model</td>\n",
       "                        <td id=\"T_f5340_row27_col1\" class=\"data row27 col1\" >None</td>\n",
       "            </tr>\n",
       "            <tr>\n",
       "                        <th id=\"T_f5340_level0_row28\" class=\"row_heading level0 row28\" >28</th>\n",
       "                        <td id=\"T_f5340_row28_col0\" class=\"data row28 col0\" >Unknown Categoricals Handling</td>\n",
       "                        <td id=\"T_f5340_row28_col1\" class=\"data row28 col1\" >least_frequent</td>\n",
       "            </tr>\n",
       "            <tr>\n",
       "                        <th id=\"T_f5340_level0_row29\" class=\"row_heading level0 row29\" >29</th>\n",
       "                        <td id=\"T_f5340_row29_col0\" class=\"data row29 col0\" >Normalize</td>\n",
       "                        <td id=\"T_f5340_row29_col1\" class=\"data row29 col1\" >False</td>\n",
       "            </tr>\n",
       "            <tr>\n",
       "                        <th id=\"T_f5340_level0_row30\" class=\"row_heading level0 row30\" >30</th>\n",
       "                        <td id=\"T_f5340_row30_col0\" class=\"data row30 col0\" >Normalize Method</td>\n",
       "                        <td id=\"T_f5340_row30_col1\" class=\"data row30 col1\" >None</td>\n",
       "            </tr>\n",
       "            <tr>\n",
       "                        <th id=\"T_f5340_level0_row31\" class=\"row_heading level0 row31\" >31</th>\n",
       "                        <td id=\"T_f5340_row31_col0\" class=\"data row31 col0\" >Transformation</td>\n",
       "                        <td id=\"T_f5340_row31_col1\" class=\"data row31 col1\" >False</td>\n",
       "            </tr>\n",
       "            <tr>\n",
       "                        <th id=\"T_f5340_level0_row32\" class=\"row_heading level0 row32\" >32</th>\n",
       "                        <td id=\"T_f5340_row32_col0\" class=\"data row32 col0\" >Transformation Method</td>\n",
       "                        <td id=\"T_f5340_row32_col1\" class=\"data row32 col1\" >None</td>\n",
       "            </tr>\n",
       "            <tr>\n",
       "                        <th id=\"T_f5340_level0_row33\" class=\"row_heading level0 row33\" >33</th>\n",
       "                        <td id=\"T_f5340_row33_col0\" class=\"data row33 col0\" >PCA</td>\n",
       "                        <td id=\"T_f5340_row33_col1\" class=\"data row33 col1\" >False</td>\n",
       "            </tr>\n",
       "            <tr>\n",
       "                        <th id=\"T_f5340_level0_row34\" class=\"row_heading level0 row34\" >34</th>\n",
       "                        <td id=\"T_f5340_row34_col0\" class=\"data row34 col0\" >PCA Method</td>\n",
       "                        <td id=\"T_f5340_row34_col1\" class=\"data row34 col1\" >None</td>\n",
       "            </tr>\n",
       "            <tr>\n",
       "                        <th id=\"T_f5340_level0_row35\" class=\"row_heading level0 row35\" >35</th>\n",
       "                        <td id=\"T_f5340_row35_col0\" class=\"data row35 col0\" >PCA Components</td>\n",
       "                        <td id=\"T_f5340_row35_col1\" class=\"data row35 col1\" >None</td>\n",
       "            </tr>\n",
       "            <tr>\n",
       "                        <th id=\"T_f5340_level0_row36\" class=\"row_heading level0 row36\" >36</th>\n",
       "                        <td id=\"T_f5340_row36_col0\" class=\"data row36 col0\" >Ignore Low Variance</td>\n",
       "                        <td id=\"T_f5340_row36_col1\" class=\"data row36 col1\" >False</td>\n",
       "            </tr>\n",
       "            <tr>\n",
       "                        <th id=\"T_f5340_level0_row37\" class=\"row_heading level0 row37\" >37</th>\n",
       "                        <td id=\"T_f5340_row37_col0\" class=\"data row37 col0\" >Combine Rare Levels</td>\n",
       "                        <td id=\"T_f5340_row37_col1\" class=\"data row37 col1\" >False</td>\n",
       "            </tr>\n",
       "            <tr>\n",
       "                        <th id=\"T_f5340_level0_row38\" class=\"row_heading level0 row38\" >38</th>\n",
       "                        <td id=\"T_f5340_row38_col0\" class=\"data row38 col0\" >Rare Level Threshold</td>\n",
       "                        <td id=\"T_f5340_row38_col1\" class=\"data row38 col1\" >None</td>\n",
       "            </tr>\n",
       "            <tr>\n",
       "                        <th id=\"T_f5340_level0_row39\" class=\"row_heading level0 row39\" >39</th>\n",
       "                        <td id=\"T_f5340_row39_col0\" class=\"data row39 col0\" >Numeric Binning</td>\n",
       "                        <td id=\"T_f5340_row39_col1\" class=\"data row39 col1\" >False</td>\n",
       "            </tr>\n",
       "            <tr>\n",
       "                        <th id=\"T_f5340_level0_row40\" class=\"row_heading level0 row40\" >40</th>\n",
       "                        <td id=\"T_f5340_row40_col0\" class=\"data row40 col0\" >Remove Outliers</td>\n",
       "                        <td id=\"T_f5340_row40_col1\" class=\"data row40 col1\" >False</td>\n",
       "            </tr>\n",
       "            <tr>\n",
       "                        <th id=\"T_f5340_level0_row41\" class=\"row_heading level0 row41\" >41</th>\n",
       "                        <td id=\"T_f5340_row41_col0\" class=\"data row41 col0\" >Outliers Threshold</td>\n",
       "                        <td id=\"T_f5340_row41_col1\" class=\"data row41 col1\" >None</td>\n",
       "            </tr>\n",
       "            <tr>\n",
       "                        <th id=\"T_f5340_level0_row42\" class=\"row_heading level0 row42\" >42</th>\n",
       "                        <td id=\"T_f5340_row42_col0\" class=\"data row42 col0\" >Remove Multicollinearity</td>\n",
       "                        <td id=\"T_f5340_row42_col1\" class=\"data row42 col1\" >False</td>\n",
       "            </tr>\n",
       "            <tr>\n",
       "                        <th id=\"T_f5340_level0_row43\" class=\"row_heading level0 row43\" >43</th>\n",
       "                        <td id=\"T_f5340_row43_col0\" class=\"data row43 col0\" >Multicollinearity Threshold</td>\n",
       "                        <td id=\"T_f5340_row43_col1\" class=\"data row43 col1\" >None</td>\n",
       "            </tr>\n",
       "            <tr>\n",
       "                        <th id=\"T_f5340_level0_row44\" class=\"row_heading level0 row44\" >44</th>\n",
       "                        <td id=\"T_f5340_row44_col0\" class=\"data row44 col0\" >Clustering</td>\n",
       "                        <td id=\"T_f5340_row44_col1\" class=\"data row44 col1\" >False</td>\n",
       "            </tr>\n",
       "            <tr>\n",
       "                        <th id=\"T_f5340_level0_row45\" class=\"row_heading level0 row45\" >45</th>\n",
       "                        <td id=\"T_f5340_row45_col0\" class=\"data row45 col0\" >Clustering Iteration</td>\n",
       "                        <td id=\"T_f5340_row45_col1\" class=\"data row45 col1\" >None</td>\n",
       "            </tr>\n",
       "            <tr>\n",
       "                        <th id=\"T_f5340_level0_row46\" class=\"row_heading level0 row46\" >46</th>\n",
       "                        <td id=\"T_f5340_row46_col0\" class=\"data row46 col0\" >Polynomial Features</td>\n",
       "                        <td id=\"T_f5340_row46_col1\" class=\"data row46 col1\" >False</td>\n",
       "            </tr>\n",
       "            <tr>\n",
       "                        <th id=\"T_f5340_level0_row47\" class=\"row_heading level0 row47\" >47</th>\n",
       "                        <td id=\"T_f5340_row47_col0\" class=\"data row47 col0\" >Polynomial Degree</td>\n",
       "                        <td id=\"T_f5340_row47_col1\" class=\"data row47 col1\" >None</td>\n",
       "            </tr>\n",
       "            <tr>\n",
       "                        <th id=\"T_f5340_level0_row48\" class=\"row_heading level0 row48\" >48</th>\n",
       "                        <td id=\"T_f5340_row48_col0\" class=\"data row48 col0\" >Trignometry Features</td>\n",
       "                        <td id=\"T_f5340_row48_col1\" class=\"data row48 col1\" >False</td>\n",
       "            </tr>\n",
       "            <tr>\n",
       "                        <th id=\"T_f5340_level0_row49\" class=\"row_heading level0 row49\" >49</th>\n",
       "                        <td id=\"T_f5340_row49_col0\" class=\"data row49 col0\" >Polynomial Threshold</td>\n",
       "                        <td id=\"T_f5340_row49_col1\" class=\"data row49 col1\" >None</td>\n",
       "            </tr>\n",
       "            <tr>\n",
       "                        <th id=\"T_f5340_level0_row50\" class=\"row_heading level0 row50\" >50</th>\n",
       "                        <td id=\"T_f5340_row50_col0\" class=\"data row50 col0\" >Group Features</td>\n",
       "                        <td id=\"T_f5340_row50_col1\" class=\"data row50 col1\" >False</td>\n",
       "            </tr>\n",
       "            <tr>\n",
       "                        <th id=\"T_f5340_level0_row51\" class=\"row_heading level0 row51\" >51</th>\n",
       "                        <td id=\"T_f5340_row51_col0\" class=\"data row51 col0\" >Feature Selection</td>\n",
       "                        <td id=\"T_f5340_row51_col1\" class=\"data row51 col1\" >False</td>\n",
       "            </tr>\n",
       "            <tr>\n",
       "                        <th id=\"T_f5340_level0_row52\" class=\"row_heading level0 row52\" >52</th>\n",
       "                        <td id=\"T_f5340_row52_col0\" class=\"data row52 col0\" >Feature Selection Method</td>\n",
       "                        <td id=\"T_f5340_row52_col1\" class=\"data row52 col1\" >classic</td>\n",
       "            </tr>\n",
       "            <tr>\n",
       "                        <th id=\"T_f5340_level0_row53\" class=\"row_heading level0 row53\" >53</th>\n",
       "                        <td id=\"T_f5340_row53_col0\" class=\"data row53 col0\" >Features Selection Threshold</td>\n",
       "                        <td id=\"T_f5340_row53_col1\" class=\"data row53 col1\" >None</td>\n",
       "            </tr>\n",
       "            <tr>\n",
       "                        <th id=\"T_f5340_level0_row54\" class=\"row_heading level0 row54\" >54</th>\n",
       "                        <td id=\"T_f5340_row54_col0\" class=\"data row54 col0\" >Feature Interaction</td>\n",
       "                        <td id=\"T_f5340_row54_col1\" class=\"data row54 col1\" >False</td>\n",
       "            </tr>\n",
       "            <tr>\n",
       "                        <th id=\"T_f5340_level0_row55\" class=\"row_heading level0 row55\" >55</th>\n",
       "                        <td id=\"T_f5340_row55_col0\" class=\"data row55 col0\" >Feature Ratio</td>\n",
       "                        <td id=\"T_f5340_row55_col1\" class=\"data row55 col1\" >False</td>\n",
       "            </tr>\n",
       "            <tr>\n",
       "                        <th id=\"T_f5340_level0_row56\" class=\"row_heading level0 row56\" >56</th>\n",
       "                        <td id=\"T_f5340_row56_col0\" class=\"data row56 col0\" >Interaction Threshold</td>\n",
       "                        <td id=\"T_f5340_row56_col1\" class=\"data row56 col1\" >None</td>\n",
       "            </tr>\n",
       "            <tr>\n",
       "                        <th id=\"T_f5340_level0_row57\" class=\"row_heading level0 row57\" >57</th>\n",
       "                        <td id=\"T_f5340_row57_col0\" class=\"data row57 col0\" >Fix Imbalance</td>\n",
       "                        <td id=\"T_f5340_row57_col1\" class=\"data row57 col1\" >False</td>\n",
       "            </tr>\n",
       "            <tr>\n",
       "                        <th id=\"T_f5340_level0_row58\" class=\"row_heading level0 row58\" >58</th>\n",
       "                        <td id=\"T_f5340_row58_col0\" class=\"data row58 col0\" >Fix Imbalance Method</td>\n",
       "                        <td id=\"T_f5340_row58_col1\" class=\"data row58 col1\" >SMOTE</td>\n",
       "            </tr>\n",
       "    </tbody></table>"
      ],
      "text/plain": [
       "<pandas.io.formats.style.Styler at 0x1b98b9c84c0>"
      ]
     },
     "metadata": {},
     "output_type": "display_data"
    },
    {
     "ename": "AttributeError",
     "evalue": "'Simple_Imputer' object has no attribute 'fill_value_categorical'",
     "output_type": "error",
     "traceback": [
      "\u001b[1;31m---------------------------------------------------------------------------\u001b[0m",
      "\u001b[1;31mAttributeError\u001b[0m                            Traceback (most recent call last)",
      "\u001b[1;32m<ipython-input-16-d603352596a2>\u001b[0m in \u001b[0;36m<module>\u001b[1;34m\u001b[0m\n\u001b[1;32m----> 1\u001b[1;33m \u001b[0mconfi_classificacao_diabetes\u001b[0m \u001b[1;33m=\u001b[0m \u001b[0msetup\u001b[0m\u001b[1;33m(\u001b[0m\u001b[0mdata\u001b[0m \u001b[1;33m=\u001b[0m \u001b[0mdf\u001b[0m\u001b[1;33m,\u001b[0m \u001b[0mtarget\u001b[0m \u001b[1;33m=\u001b[0m \u001b[1;34m'stroke'\u001b[0m\u001b[1;33m,\u001b[0m \u001b[0msession_id\u001b[0m\u001b[1;33m=\u001b[0m\u001b[1;36m123\u001b[0m\u001b[1;33m)\u001b[0m\u001b[1;33m\u001b[0m\u001b[1;33m\u001b[0m\u001b[0m\n\u001b[0m",
      "\u001b[1;32m~\\anaconda3\\lib\\site-packages\\pycaret\\classification.py\u001b[0m in \u001b[0;36msetup\u001b[1;34m(data, target, train_size, test_data, preprocess, imputation_type, iterative_imputation_iters, categorical_features, categorical_imputation, categorical_iterative_imputer, ordinal_features, high_cardinality_features, high_cardinality_method, numeric_features, numeric_imputation, numeric_iterative_imputer, date_features, ignore_features, normalize, normalize_method, transformation, transformation_method, handle_unknown_categorical, unknown_categorical_method, pca, pca_method, pca_components, ignore_low_variance, combine_rare_levels, rare_level_threshold, bin_numeric_features, remove_outliers, outliers_threshold, remove_multicollinearity, multicollinearity_threshold, remove_perfect_collinearity, create_clusters, cluster_iter, polynomial_features, polynomial_degree, trigonometry_features, polynomial_threshold, group_features, group_names, feature_selection, feature_selection_threshold, feature_selection_method, feature_interaction, feature_ratio, interaction_threshold, fix_imbalance, fix_imbalance_method, data_split_shuffle, data_split_stratify, fold_strategy, fold, fold_shuffle, fold_groups, n_jobs, use_gpu, custom_pipeline, html, session_id, log_experiment, experiment_name, log_plots, log_profile, log_data, silent, verbose, profile, profile_kwargs)\u001b[0m\n\u001b[0;32m    578\u001b[0m         \u001b[0mlog_plots\u001b[0m \u001b[1;33m=\u001b[0m \u001b[1;33m[\u001b[0m\u001b[1;34m\"auc\"\u001b[0m\u001b[1;33m,\u001b[0m \u001b[1;34m\"confusion_matrix\"\u001b[0m\u001b[1;33m,\u001b[0m \u001b[1;34m\"feature\"\u001b[0m\u001b[1;33m]\u001b[0m\u001b[1;33m\u001b[0m\u001b[1;33m\u001b[0m\u001b[0m\n\u001b[0;32m    579\u001b[0m \u001b[1;33m\u001b[0m\u001b[0m\n\u001b[1;32m--> 580\u001b[1;33m     return pycaret.internal.tabular.setup(\n\u001b[0m\u001b[0;32m    581\u001b[0m         \u001b[0mml_usecase\u001b[0m\u001b[1;33m=\u001b[0m\u001b[1;34m\"classification\"\u001b[0m\u001b[1;33m,\u001b[0m\u001b[1;33m\u001b[0m\u001b[1;33m\u001b[0m\u001b[0m\n\u001b[0;32m    582\u001b[0m         \u001b[0mavailable_plots\u001b[0m\u001b[1;33m=\u001b[0m\u001b[0mavailable_plots\u001b[0m\u001b[1;33m,\u001b[0m\u001b[1;33m\u001b[0m\u001b[1;33m\u001b[0m\u001b[0m\n",
      "\u001b[1;32m~\\anaconda3\\lib\\site-packages\\pycaret\\internal\\tabular.py\u001b[0m in \u001b[0;36msetup\u001b[1;34m(data, target, ml_usecase, available_plots, train_size, test_data, preprocess, imputation_type, iterative_imputation_iters, categorical_features, categorical_imputation, categorical_iterative_imputer, ordinal_features, high_cardinality_features, high_cardinality_method, numeric_features, numeric_imputation, numeric_iterative_imputer, date_features, ignore_features, normalize, normalize_method, transformation, transformation_method, handle_unknown_categorical, unknown_categorical_method, pca, pca_method, pca_components, ignore_low_variance, combine_rare_levels, rare_level_threshold, bin_numeric_features, remove_outliers, outliers_threshold, remove_multicollinearity, multicollinearity_threshold, remove_perfect_collinearity, create_clusters, cluster_iter, polynomial_features, polynomial_degree, trigonometry_features, polynomial_threshold, group_features, group_names, feature_selection, feature_selection_threshold, feature_selection_method, feature_interaction, feature_ratio, interaction_threshold, fix_imbalance, fix_imbalance_method, transform_target, transform_target_method, data_split_shuffle, data_split_stratify, fold_strategy, fold, fold_shuffle, fold_groups, n_jobs, use_gpu, custom_pipeline, html, session_id, log_experiment, experiment_name, log_plots, log_profile, log_data, silent, verbose, profile, profile_kwargs, display)\u001b[0m\n\u001b[0;32m   1770\u001b[0m     \u001b[0mlogger\u001b[0m\u001b[1;33m.\u001b[0m\u001b[0minfo\u001b[0m\u001b[1;33m(\u001b[0m\u001b[1;34mf\"display_container: {len(display_container)}\"\u001b[0m\u001b[1;33m)\u001b[0m\u001b[1;33m\u001b[0m\u001b[1;33m\u001b[0m\u001b[0m\n\u001b[0;32m   1771\u001b[0m \u001b[1;33m\u001b[0m\u001b[0m\n\u001b[1;32m-> 1772\u001b[1;33m     \u001b[0mlogger\u001b[0m\u001b[1;33m.\u001b[0m\u001b[0minfo\u001b[0m\u001b[1;33m(\u001b[0m\u001b[0mstr\u001b[0m\u001b[1;33m(\u001b[0m\u001b[0mprep_pipe\u001b[0m\u001b[1;33m)\u001b[0m\u001b[1;33m)\u001b[0m\u001b[1;33m\u001b[0m\u001b[1;33m\u001b[0m\u001b[0m\n\u001b[0m\u001b[0;32m   1773\u001b[0m     \u001b[0mlogger\u001b[0m\u001b[1;33m.\u001b[0m\u001b[0minfo\u001b[0m\u001b[1;33m(\u001b[0m\u001b[1;34m\"setup() succesfully completed......................................\"\u001b[0m\u001b[1;33m)\u001b[0m\u001b[1;33m\u001b[0m\u001b[1;33m\u001b[0m\u001b[0m\n\u001b[0;32m   1774\u001b[0m \u001b[1;33m\u001b[0m\u001b[0m\n",
      "\u001b[1;32m~\\AppData\\Roaming\\Python\\Python38\\site-packages\\sklearn\\base.py\u001b[0m in \u001b[0;36m__repr__\u001b[1;34m(self, N_CHAR_MAX)\u001b[0m\n\u001b[0;32m    258\u001b[0m             n_max_elements_to_show=N_MAX_ELEMENTS_TO_SHOW)\n\u001b[0;32m    259\u001b[0m \u001b[1;33m\u001b[0m\u001b[0m\n\u001b[1;32m--> 260\u001b[1;33m         \u001b[0mrepr_\u001b[0m \u001b[1;33m=\u001b[0m \u001b[0mpp\u001b[0m\u001b[1;33m.\u001b[0m\u001b[0mpformat\u001b[0m\u001b[1;33m(\u001b[0m\u001b[0mself\u001b[0m\u001b[1;33m)\u001b[0m\u001b[1;33m\u001b[0m\u001b[1;33m\u001b[0m\u001b[0m\n\u001b[0m\u001b[0;32m    261\u001b[0m \u001b[1;33m\u001b[0m\u001b[0m\n\u001b[0;32m    262\u001b[0m         \u001b[1;31m# Use bruteforce ellipsis when there are a lot of non-blank characters\u001b[0m\u001b[1;33m\u001b[0m\u001b[1;33m\u001b[0m\u001b[1;33m\u001b[0m\u001b[0m\n",
      "\u001b[1;32m~\\anaconda3\\lib\\pprint.py\u001b[0m in \u001b[0;36mpformat\u001b[1;34m(self, object)\u001b[0m\n\u001b[0;32m    151\u001b[0m     \u001b[1;32mdef\u001b[0m \u001b[0mpformat\u001b[0m\u001b[1;33m(\u001b[0m\u001b[0mself\u001b[0m\u001b[1;33m,\u001b[0m \u001b[0mobject\u001b[0m\u001b[1;33m)\u001b[0m\u001b[1;33m:\u001b[0m\u001b[1;33m\u001b[0m\u001b[1;33m\u001b[0m\u001b[0m\n\u001b[0;32m    152\u001b[0m         \u001b[0msio\u001b[0m \u001b[1;33m=\u001b[0m \u001b[0m_StringIO\u001b[0m\u001b[1;33m(\u001b[0m\u001b[1;33m)\u001b[0m\u001b[1;33m\u001b[0m\u001b[1;33m\u001b[0m\u001b[0m\n\u001b[1;32m--> 153\u001b[1;33m         \u001b[0mself\u001b[0m\u001b[1;33m.\u001b[0m\u001b[0m_format\u001b[0m\u001b[1;33m(\u001b[0m\u001b[0mobject\u001b[0m\u001b[1;33m,\u001b[0m \u001b[0msio\u001b[0m\u001b[1;33m,\u001b[0m \u001b[1;36m0\u001b[0m\u001b[1;33m,\u001b[0m \u001b[1;36m0\u001b[0m\u001b[1;33m,\u001b[0m \u001b[1;33m{\u001b[0m\u001b[1;33m}\u001b[0m\u001b[1;33m,\u001b[0m \u001b[1;36m0\u001b[0m\u001b[1;33m)\u001b[0m\u001b[1;33m\u001b[0m\u001b[1;33m\u001b[0m\u001b[0m\n\u001b[0m\u001b[0;32m    154\u001b[0m         \u001b[1;32mreturn\u001b[0m \u001b[0msio\u001b[0m\u001b[1;33m.\u001b[0m\u001b[0mgetvalue\u001b[0m\u001b[1;33m(\u001b[0m\u001b[1;33m)\u001b[0m\u001b[1;33m\u001b[0m\u001b[1;33m\u001b[0m\u001b[0m\n\u001b[0;32m    155\u001b[0m \u001b[1;33m\u001b[0m\u001b[0m\n",
      "\u001b[1;32m~\\anaconda3\\lib\\pprint.py\u001b[0m in \u001b[0;36m_format\u001b[1;34m(self, object, stream, indent, allowance, context, level)\u001b[0m\n\u001b[0;32m    168\u001b[0m             \u001b[0mself\u001b[0m\u001b[1;33m.\u001b[0m\u001b[0m_readable\u001b[0m \u001b[1;33m=\u001b[0m \u001b[1;32mFalse\u001b[0m\u001b[1;33m\u001b[0m\u001b[1;33m\u001b[0m\u001b[0m\n\u001b[0;32m    169\u001b[0m             \u001b[1;32mreturn\u001b[0m\u001b[1;33m\u001b[0m\u001b[1;33m\u001b[0m\u001b[0m\n\u001b[1;32m--> 170\u001b[1;33m         \u001b[0mrep\u001b[0m \u001b[1;33m=\u001b[0m \u001b[0mself\u001b[0m\u001b[1;33m.\u001b[0m\u001b[0m_repr\u001b[0m\u001b[1;33m(\u001b[0m\u001b[0mobject\u001b[0m\u001b[1;33m,\u001b[0m \u001b[0mcontext\u001b[0m\u001b[1;33m,\u001b[0m \u001b[0mlevel\u001b[0m\u001b[1;33m)\u001b[0m\u001b[1;33m\u001b[0m\u001b[1;33m\u001b[0m\u001b[0m\n\u001b[0m\u001b[0;32m    171\u001b[0m         \u001b[0mmax_width\u001b[0m \u001b[1;33m=\u001b[0m \u001b[0mself\u001b[0m\u001b[1;33m.\u001b[0m\u001b[0m_width\u001b[0m \u001b[1;33m-\u001b[0m \u001b[0mindent\u001b[0m \u001b[1;33m-\u001b[0m \u001b[0mallowance\u001b[0m\u001b[1;33m\u001b[0m\u001b[1;33m\u001b[0m\u001b[0m\n\u001b[0;32m    172\u001b[0m         \u001b[1;32mif\u001b[0m \u001b[0mlen\u001b[0m\u001b[1;33m(\u001b[0m\u001b[0mrep\u001b[0m\u001b[1;33m)\u001b[0m \u001b[1;33m>\u001b[0m \u001b[0mmax_width\u001b[0m\u001b[1;33m:\u001b[0m\u001b[1;33m\u001b[0m\u001b[1;33m\u001b[0m\u001b[0m\n",
      "\u001b[1;32m~\\anaconda3\\lib\\pprint.py\u001b[0m in \u001b[0;36m_repr\u001b[1;34m(self, object, context, level)\u001b[0m\n\u001b[0;32m    402\u001b[0m \u001b[1;33m\u001b[0m\u001b[0m\n\u001b[0;32m    403\u001b[0m     \u001b[1;32mdef\u001b[0m \u001b[0m_repr\u001b[0m\u001b[1;33m(\u001b[0m\u001b[0mself\u001b[0m\u001b[1;33m,\u001b[0m \u001b[0mobject\u001b[0m\u001b[1;33m,\u001b[0m \u001b[0mcontext\u001b[0m\u001b[1;33m,\u001b[0m \u001b[0mlevel\u001b[0m\u001b[1;33m)\u001b[0m\u001b[1;33m:\u001b[0m\u001b[1;33m\u001b[0m\u001b[1;33m\u001b[0m\u001b[0m\n\u001b[1;32m--> 404\u001b[1;33m         repr, readable, recursive = self.format(object, context.copy(),\n\u001b[0m\u001b[0;32m    405\u001b[0m                                                 self._depth, level)\n\u001b[0;32m    406\u001b[0m         \u001b[1;32mif\u001b[0m \u001b[1;32mnot\u001b[0m \u001b[0mreadable\u001b[0m\u001b[1;33m:\u001b[0m\u001b[1;33m\u001b[0m\u001b[1;33m\u001b[0m\u001b[0m\n",
      "\u001b[1;32m~\\AppData\\Roaming\\Python\\Python38\\site-packages\\sklearn\\utils\\_pprint.py\u001b[0m in \u001b[0;36mformat\u001b[1;34m(self, object, context, maxlevels, level)\u001b[0m\n\u001b[0;32m    178\u001b[0m \u001b[1;33m\u001b[0m\u001b[0m\n\u001b[0;32m    179\u001b[0m     \u001b[1;32mdef\u001b[0m \u001b[0mformat\u001b[0m\u001b[1;33m(\u001b[0m\u001b[0mself\u001b[0m\u001b[1;33m,\u001b[0m \u001b[0mobject\u001b[0m\u001b[1;33m,\u001b[0m \u001b[0mcontext\u001b[0m\u001b[1;33m,\u001b[0m \u001b[0mmaxlevels\u001b[0m\u001b[1;33m,\u001b[0m \u001b[0mlevel\u001b[0m\u001b[1;33m)\u001b[0m\u001b[1;33m:\u001b[0m\u001b[1;33m\u001b[0m\u001b[1;33m\u001b[0m\u001b[0m\n\u001b[1;32m--> 180\u001b[1;33m         return _safe_repr(object, context, maxlevels, level,\n\u001b[0m\u001b[0;32m    181\u001b[0m                           changed_only=self._changed_only)\n\u001b[0;32m    182\u001b[0m \u001b[1;33m\u001b[0m\u001b[0m\n",
      "\u001b[1;32m~\\AppData\\Roaming\\Python\\Python38\\site-packages\\sklearn\\utils\\_pprint.py\u001b[0m in \u001b[0;36m_safe_repr\u001b[1;34m(object, context, maxlevels, level, changed_only)\u001b[0m\n\u001b[0;32m    434\u001b[0m             krepr, kreadable, krecur = saferepr(\n\u001b[0;32m    435\u001b[0m                 k, context, maxlevels, level, changed_only=changed_only)\n\u001b[1;32m--> 436\u001b[1;33m             vrepr, vreadable, vrecur = saferepr(\n\u001b[0m\u001b[0;32m    437\u001b[0m                 v, context, maxlevels, level, changed_only=changed_only)\n\u001b[0;32m    438\u001b[0m             \u001b[0mappend\u001b[0m\u001b[1;33m(\u001b[0m\u001b[1;34m\"%s=%s\"\u001b[0m \u001b[1;33m%\u001b[0m \u001b[1;33m(\u001b[0m\u001b[0mkrepr\u001b[0m\u001b[1;33m.\u001b[0m\u001b[0mstrip\u001b[0m\u001b[1;33m(\u001b[0m\u001b[1;34m\"'\"\u001b[0m\u001b[1;33m)\u001b[0m\u001b[1;33m,\u001b[0m \u001b[0mvrepr\u001b[0m\u001b[1;33m)\u001b[0m\u001b[1;33m)\u001b[0m\u001b[1;33m\u001b[0m\u001b[1;33m\u001b[0m\u001b[0m\n",
      "\u001b[1;32m~\\AppData\\Roaming\\Python\\Python38\\site-packages\\sklearn\\utils\\_pprint.py\u001b[0m in \u001b[0;36m_safe_repr\u001b[1;34m(object, context, maxlevels, level, changed_only)\u001b[0m\n\u001b[0;32m    403\u001b[0m         \u001b[0mlevel\u001b[0m \u001b[1;33m+=\u001b[0m \u001b[1;36m1\u001b[0m\u001b[1;33m\u001b[0m\u001b[1;33m\u001b[0m\u001b[0m\n\u001b[0;32m    404\u001b[0m         \u001b[1;32mfor\u001b[0m \u001b[0mo\u001b[0m \u001b[1;32min\u001b[0m \u001b[0mobject\u001b[0m\u001b[1;33m:\u001b[0m\u001b[1;33m\u001b[0m\u001b[1;33m\u001b[0m\u001b[0m\n\u001b[1;32m--> 405\u001b[1;33m             orepr, oreadable, orecur = _safe_repr(\n\u001b[0m\u001b[0;32m    406\u001b[0m                 o, context, maxlevels, level, changed_only=changed_only)\n\u001b[0;32m    407\u001b[0m             \u001b[0mappend\u001b[0m\u001b[1;33m(\u001b[0m\u001b[0morepr\u001b[0m\u001b[1;33m)\u001b[0m\u001b[1;33m\u001b[0m\u001b[1;33m\u001b[0m\u001b[0m\n",
      "\u001b[1;32m~\\AppData\\Roaming\\Python\\Python38\\site-packages\\sklearn\\utils\\_pprint.py\u001b[0m in \u001b[0;36m_safe_repr\u001b[1;34m(object, context, maxlevels, level, changed_only)\u001b[0m\n\u001b[0;32m    403\u001b[0m         \u001b[0mlevel\u001b[0m \u001b[1;33m+=\u001b[0m \u001b[1;36m1\u001b[0m\u001b[1;33m\u001b[0m\u001b[1;33m\u001b[0m\u001b[0m\n\u001b[0;32m    404\u001b[0m         \u001b[1;32mfor\u001b[0m \u001b[0mo\u001b[0m \u001b[1;32min\u001b[0m \u001b[0mobject\u001b[0m\u001b[1;33m:\u001b[0m\u001b[1;33m\u001b[0m\u001b[1;33m\u001b[0m\u001b[0m\n\u001b[1;32m--> 405\u001b[1;33m             orepr, oreadable, orecur = _safe_repr(\n\u001b[0m\u001b[0;32m    406\u001b[0m                 o, context, maxlevels, level, changed_only=changed_only)\n\u001b[0;32m    407\u001b[0m             \u001b[0mappend\u001b[0m\u001b[1;33m(\u001b[0m\u001b[0morepr\u001b[0m\u001b[1;33m)\u001b[0m\u001b[1;33m\u001b[0m\u001b[1;33m\u001b[0m\u001b[0m\n",
      "\u001b[1;32m~\\AppData\\Roaming\\Python\\Python38\\site-packages\\sklearn\\utils\\_pprint.py\u001b[0m in \u001b[0;36m_safe_repr\u001b[1;34m(object, context, maxlevels, level, changed_only)\u001b[0m\n\u001b[0;32m    425\u001b[0m             \u001b[0mparams\u001b[0m \u001b[1;33m=\u001b[0m \u001b[0m_changed_params\u001b[0m\u001b[1;33m(\u001b[0m\u001b[0mobject\u001b[0m\u001b[1;33m)\u001b[0m\u001b[1;33m\u001b[0m\u001b[1;33m\u001b[0m\u001b[0m\n\u001b[0;32m    426\u001b[0m         \u001b[1;32melse\u001b[0m\u001b[1;33m:\u001b[0m\u001b[1;33m\u001b[0m\u001b[1;33m\u001b[0m\u001b[0m\n\u001b[1;32m--> 427\u001b[1;33m             \u001b[0mparams\u001b[0m \u001b[1;33m=\u001b[0m \u001b[0mobject\u001b[0m\u001b[1;33m.\u001b[0m\u001b[0mget_params\u001b[0m\u001b[1;33m(\u001b[0m\u001b[0mdeep\u001b[0m\u001b[1;33m=\u001b[0m\u001b[1;32mFalse\u001b[0m\u001b[1;33m)\u001b[0m\u001b[1;33m\u001b[0m\u001b[1;33m\u001b[0m\u001b[0m\n\u001b[0m\u001b[0;32m    428\u001b[0m         \u001b[0mcomponents\u001b[0m \u001b[1;33m=\u001b[0m \u001b[1;33m[\u001b[0m\u001b[1;33m]\u001b[0m\u001b[1;33m\u001b[0m\u001b[1;33m\u001b[0m\u001b[0m\n\u001b[0;32m    429\u001b[0m         \u001b[0mappend\u001b[0m \u001b[1;33m=\u001b[0m \u001b[0mcomponents\u001b[0m\u001b[1;33m.\u001b[0m\u001b[0mappend\u001b[0m\u001b[1;33m\u001b[0m\u001b[1;33m\u001b[0m\u001b[0m\n",
      "\u001b[1;32m~\\AppData\\Roaming\\Python\\Python38\\site-packages\\sklearn\\base.py\u001b[0m in \u001b[0;36mget_params\u001b[1;34m(self, deep)\u001b[0m\n\u001b[0;32m    193\u001b[0m         \u001b[0mout\u001b[0m \u001b[1;33m=\u001b[0m \u001b[0mdict\u001b[0m\u001b[1;33m(\u001b[0m\u001b[1;33m)\u001b[0m\u001b[1;33m\u001b[0m\u001b[1;33m\u001b[0m\u001b[0m\n\u001b[0;32m    194\u001b[0m         \u001b[1;32mfor\u001b[0m \u001b[0mkey\u001b[0m \u001b[1;32min\u001b[0m \u001b[0mself\u001b[0m\u001b[1;33m.\u001b[0m\u001b[0m_get_param_names\u001b[0m\u001b[1;33m(\u001b[0m\u001b[1;33m)\u001b[0m\u001b[1;33m:\u001b[0m\u001b[1;33m\u001b[0m\u001b[1;33m\u001b[0m\u001b[0m\n\u001b[1;32m--> 195\u001b[1;33m             \u001b[0mvalue\u001b[0m \u001b[1;33m=\u001b[0m \u001b[0mgetattr\u001b[0m\u001b[1;33m(\u001b[0m\u001b[0mself\u001b[0m\u001b[1;33m,\u001b[0m \u001b[0mkey\u001b[0m\u001b[1;33m)\u001b[0m\u001b[1;33m\u001b[0m\u001b[1;33m\u001b[0m\u001b[0m\n\u001b[0m\u001b[0;32m    196\u001b[0m             \u001b[1;32mif\u001b[0m \u001b[0mdeep\u001b[0m \u001b[1;32mand\u001b[0m \u001b[0mhasattr\u001b[0m\u001b[1;33m(\u001b[0m\u001b[0mvalue\u001b[0m\u001b[1;33m,\u001b[0m \u001b[1;34m'get_params'\u001b[0m\u001b[1;33m)\u001b[0m\u001b[1;33m:\u001b[0m\u001b[1;33m\u001b[0m\u001b[1;33m\u001b[0m\u001b[0m\n\u001b[0;32m    197\u001b[0m                 \u001b[0mdeep_items\u001b[0m \u001b[1;33m=\u001b[0m \u001b[0mvalue\u001b[0m\u001b[1;33m.\u001b[0m\u001b[0mget_params\u001b[0m\u001b[1;33m(\u001b[0m\u001b[1;33m)\u001b[0m\u001b[1;33m.\u001b[0m\u001b[0mitems\u001b[0m\u001b[1;33m(\u001b[0m\u001b[1;33m)\u001b[0m\u001b[1;33m\u001b[0m\u001b[1;33m\u001b[0m\u001b[0m\n",
      "\u001b[1;31mAttributeError\u001b[0m: 'Simple_Imputer' object has no attribute 'fill_value_categorical'"
     ]
    }
   ],
   "source": [
    "confi_classificacao_diabetes = setup(data = df, target = 'stroke', session_id=123)"
   ]
  },
  {
   "cell_type": "markdown",
   "metadata": {},
   "source": [
    "### Treinando Modelos sem tunagem de hyperparâmetros"
   ]
  },
  {
   "cell_type": "code",
   "execution_count": null,
   "metadata": {},
   "outputs": [],
   "source": [
    "from PIL import Image\n",
    "\n",
    "image = Image.open('matriz_confusao.png')\n",
    "image"
   ]
  },
  {
   "cell_type": "markdown",
   "metadata": {},
   "source": [
    "fonte: encurtador.com.br/eDMNX"
   ]
  },
  {
   "cell_type": "markdown",
   "metadata": {},
   "source": [
    "#### Avaliação por Recall"
   ]
  },
  {
   "cell_type": "code",
   "execution_count": 18,
   "metadata": {},
   "outputs": [
    {
     "data": {
      "text/html": [
       "<style  type=\"text/css\" >\n",
       "    #T_dedc9_ th {\n",
       "          text-align: left;\n",
       "    }#T_dedc9_row0_col0,#T_dedc9_row0_col1,#T_dedc9_row0_col2,#T_dedc9_row0_col4,#T_dedc9_row0_col5,#T_dedc9_row0_col6,#T_dedc9_row0_col7,#T_dedc9_row1_col0,#T_dedc9_row1_col1,#T_dedc9_row1_col2,#T_dedc9_row1_col3,#T_dedc9_row1_col4,#T_dedc9_row2_col0,#T_dedc9_row2_col1,#T_dedc9_row2_col2,#T_dedc9_row2_col3,#T_dedc9_row2_col4,#T_dedc9_row2_col5,#T_dedc9_row2_col6,#T_dedc9_row2_col7,#T_dedc9_row3_col0,#T_dedc9_row3_col1,#T_dedc9_row3_col2,#T_dedc9_row3_col3,#T_dedc9_row3_col4,#T_dedc9_row3_col5,#T_dedc9_row3_col6,#T_dedc9_row3_col7,#T_dedc9_row4_col0,#T_dedc9_row4_col1,#T_dedc9_row4_col2,#T_dedc9_row4_col3,#T_dedc9_row4_col5,#T_dedc9_row4_col6,#T_dedc9_row4_col7,#T_dedc9_row5_col0,#T_dedc9_row5_col1,#T_dedc9_row5_col2,#T_dedc9_row5_col3,#T_dedc9_row5_col4,#T_dedc9_row5_col5,#T_dedc9_row5_col6,#T_dedc9_row5_col7,#T_dedc9_row6_col0,#T_dedc9_row6_col1,#T_dedc9_row6_col2,#T_dedc9_row6_col3,#T_dedc9_row6_col4,#T_dedc9_row6_col5,#T_dedc9_row6_col6,#T_dedc9_row6_col7,#T_dedc9_row7_col0,#T_dedc9_row7_col1,#T_dedc9_row7_col3,#T_dedc9_row7_col4,#T_dedc9_row7_col5,#T_dedc9_row7_col6,#T_dedc9_row7_col7,#T_dedc9_row8_col0,#T_dedc9_row8_col1,#T_dedc9_row8_col2,#T_dedc9_row8_col3,#T_dedc9_row8_col4,#T_dedc9_row8_col5,#T_dedc9_row8_col6,#T_dedc9_row8_col7,#T_dedc9_row9_col0,#T_dedc9_row9_col1,#T_dedc9_row9_col2,#T_dedc9_row9_col3,#T_dedc9_row9_col4,#T_dedc9_row9_col5,#T_dedc9_row9_col6,#T_dedc9_row9_col7,#T_dedc9_row10_col0,#T_dedc9_row10_col1,#T_dedc9_row10_col2,#T_dedc9_row10_col3,#T_dedc9_row10_col4,#T_dedc9_row10_col5,#T_dedc9_row10_col6,#T_dedc9_row10_col7,#T_dedc9_row11_col0,#T_dedc9_row11_col2,#T_dedc9_row11_col3,#T_dedc9_row11_col4,#T_dedc9_row11_col5,#T_dedc9_row11_col6,#T_dedc9_row11_col7,#T_dedc9_row12_col0,#T_dedc9_row12_col1,#T_dedc9_row12_col2,#T_dedc9_row12_col3,#T_dedc9_row12_col4,#T_dedc9_row12_col5,#T_dedc9_row12_col6,#T_dedc9_row12_col7{\n",
       "            text-align:  left;\n",
       "            text-align:  left;\n",
       "        }#T_dedc9_row0_col3,#T_dedc9_row1_col5,#T_dedc9_row1_col6,#T_dedc9_row1_col7,#T_dedc9_row4_col4,#T_dedc9_row7_col2,#T_dedc9_row11_col1{\n",
       "            text-align:  left;\n",
       "            text-align:  left;\n",
       "            background-color:  yellow;\n",
       "        }#T_dedc9_row0_col8,#T_dedc9_row1_col8,#T_dedc9_row2_col8,#T_dedc9_row3_col8,#T_dedc9_row4_col8,#T_dedc9_row5_col8,#T_dedc9_row6_col8,#T_dedc9_row7_col8,#T_dedc9_row8_col8,#T_dedc9_row9_col8,#T_dedc9_row10_col8,#T_dedc9_row12_col8{\n",
       "            text-align:  left;\n",
       "            text-align:  left;\n",
       "            background-color:  lightgrey;\n",
       "        }#T_dedc9_row11_col8{\n",
       "            text-align:  left;\n",
       "            text-align:  left;\n",
       "            background-color:  yellow;\n",
       "            background-color:  lightgrey;\n",
       "        }</style><table id=\"T_dedc9_\" ><thead>    <tr>        <th class=\"blank level0\" ></th>        <th class=\"col_heading level0 col0\" >Model</th>        <th class=\"col_heading level0 col1\" >Accuracy</th>        <th class=\"col_heading level0 col2\" >AUC</th>        <th class=\"col_heading level0 col3\" >Recall</th>        <th class=\"col_heading level0 col4\" >Prec.</th>        <th class=\"col_heading level0 col5\" >F1</th>        <th class=\"col_heading level0 col6\" >Kappa</th>        <th class=\"col_heading level0 col7\" >MCC</th>        <th class=\"col_heading level0 col8\" >TT (Sec)</th>    </tr></thead><tbody>\n",
       "                <tr>\n",
       "                        <th id=\"T_dedc9_level0_row0\" class=\"row_heading level0 row0\" >qda</th>\n",
       "                        <td id=\"T_dedc9_row0_col0\" class=\"data row0 col0\" >Quadratic Discriminant Analysis</td>\n",
       "                        <td id=\"T_dedc9_row0_col1\" class=\"data row0 col1\" >0.6535</td>\n",
       "                        <td id=\"T_dedc9_row0_col2\" class=\"data row0 col2\" >0.5065</td>\n",
       "                        <td id=\"T_dedc9_row0_col3\" class=\"data row0 col3\" >0.3429</td>\n",
       "                        <td id=\"T_dedc9_row0_col4\" class=\"data row0 col4\" >0.0496</td>\n",
       "                        <td id=\"T_dedc9_row0_col5\" class=\"data row0 col5\" >0.0817</td>\n",
       "                        <td id=\"T_dedc9_row0_col6\" class=\"data row0 col6\" >0.0011</td>\n",
       "                        <td id=\"T_dedc9_row0_col7\" class=\"data row0 col7\" >0.0040</td>\n",
       "                        <td id=\"T_dedc9_row0_col8\" class=\"data row0 col8\" >0.0080</td>\n",
       "            </tr>\n",
       "            <tr>\n",
       "                        <th id=\"T_dedc9_level0_row1\" class=\"row_heading level0 row1\" >nb</th>\n",
       "                        <td id=\"T_dedc9_row1_col0\" class=\"data row1 col0\" >Naive Bayes</td>\n",
       "                        <td id=\"T_dedc9_row1_col1\" class=\"data row1 col1\" >0.9123</td>\n",
       "                        <td id=\"T_dedc9_row1_col2\" class=\"data row1 col2\" >0.8173</td>\n",
       "                        <td id=\"T_dedc9_row1_col3\" class=\"data row1 col3\" >0.1762</td>\n",
       "                        <td id=\"T_dedc9_row1_col4\" class=\"data row1 col4\" >0.1684</td>\n",
       "                        <td id=\"T_dedc9_row1_col5\" class=\"data row1 col5\" >0.1716</td>\n",
       "                        <td id=\"T_dedc9_row1_col6\" class=\"data row1 col6\" >0.1255</td>\n",
       "                        <td id=\"T_dedc9_row1_col7\" class=\"data row1 col7\" >0.1257</td>\n",
       "                        <td id=\"T_dedc9_row1_col8\" class=\"data row1 col8\" >0.0480</td>\n",
       "            </tr>\n",
       "            <tr>\n",
       "                        <th id=\"T_dedc9_level0_row2\" class=\"row_heading level0 row2\" >dt</th>\n",
       "                        <td id=\"T_dedc9_row2_col0\" class=\"data row2 col0\" >Decision Tree Classifier</td>\n",
       "                        <td id=\"T_dedc9_row2_col1\" class=\"data row2 col1\" >0.8997</td>\n",
       "                        <td id=\"T_dedc9_row2_col2\" class=\"data row2 col2\" >0.5381</td>\n",
       "                        <td id=\"T_dedc9_row2_col3\" class=\"data row2 col3\" >0.1348</td>\n",
       "                        <td id=\"T_dedc9_row2_col4\" class=\"data row2 col4\" >0.1140</td>\n",
       "                        <td id=\"T_dedc9_row2_col5\" class=\"data row2 col5\" >0.1228</td>\n",
       "                        <td id=\"T_dedc9_row2_col6\" class=\"data row2 col6\" >0.0703</td>\n",
       "                        <td id=\"T_dedc9_row2_col7\" class=\"data row2 col7\" >0.0708</td>\n",
       "                        <td id=\"T_dedc9_row2_col8\" class=\"data row2 col8\" >0.0070</td>\n",
       "            </tr>\n",
       "            <tr>\n",
       "                        <th id=\"T_dedc9_level0_row3\" class=\"row_heading level0 row3\" >svm</th>\n",
       "                        <td id=\"T_dedc9_row3_col0\" class=\"data row3 col0\" >SVM - Linear Kernel</td>\n",
       "                        <td id=\"T_dedc9_row3_col1\" class=\"data row3 col1\" >0.8521</td>\n",
       "                        <td id=\"T_dedc9_row3_col2\" class=\"data row3 col2\" >0.0000</td>\n",
       "                        <td id=\"T_dedc9_row3_col3\" class=\"data row3 col3\" >0.1071</td>\n",
       "                        <td id=\"T_dedc9_row3_col4\" class=\"data row3 col4\" >0.0299</td>\n",
       "                        <td id=\"T_dedc9_row3_col5\" class=\"data row3 col5\" >0.0204</td>\n",
       "                        <td id=\"T_dedc9_row3_col6\" class=\"data row3 col6\" >0.0004</td>\n",
       "                        <td id=\"T_dedc9_row3_col7\" class=\"data row3 col7\" >-0.0015</td>\n",
       "                        <td id=\"T_dedc9_row3_col8\" class=\"data row3 col8\" >0.0080</td>\n",
       "            </tr>\n",
       "            <tr>\n",
       "                        <th id=\"T_dedc9_level0_row4\" class=\"row_heading level0 row4\" >lda</th>\n",
       "                        <td id=\"T_dedc9_row4_col0\" class=\"data row4 col0\" >Linear Discriminant Analysis</td>\n",
       "                        <td id=\"T_dedc9_row4_col1\" class=\"data row4 col1\" >0.9427</td>\n",
       "                        <td id=\"T_dedc9_row4_col2\" class=\"data row4 col2\" >0.8202</td>\n",
       "                        <td id=\"T_dedc9_row4_col3\" class=\"data row4 col3\" >0.0405</td>\n",
       "                        <td id=\"T_dedc9_row4_col4\" class=\"data row4 col4\" >0.3583</td>\n",
       "                        <td id=\"T_dedc9_row4_col5\" class=\"data row4 col5\" >0.0710</td>\n",
       "                        <td id=\"T_dedc9_row4_col6\" class=\"data row4 col6\" >0.0557</td>\n",
       "                        <td id=\"T_dedc9_row4_col7\" class=\"data row4 col7\" >0.0980</td>\n",
       "                        <td id=\"T_dedc9_row4_col8\" class=\"data row4 col8\" >0.0110</td>\n",
       "            </tr>\n",
       "            <tr>\n",
       "                        <th id=\"T_dedc9_level0_row5\" class=\"row_heading level0 row5\" >lightgbm</th>\n",
       "                        <td id=\"T_dedc9_row5_col0\" class=\"data row5 col0\" >Light Gradient Boosting Machine</td>\n",
       "                        <td id=\"T_dedc9_row5_col1\" class=\"data row5 col1\" >0.9402</td>\n",
       "                        <td id=\"T_dedc9_row5_col2\" class=\"data row5 col2\" >0.8128</td>\n",
       "                        <td id=\"T_dedc9_row5_col3\" class=\"data row5 col3\" >0.0333</td>\n",
       "                        <td id=\"T_dedc9_row5_col4\" class=\"data row5 col4\" >0.1200</td>\n",
       "                        <td id=\"T_dedc9_row5_col5\" class=\"data row5 col5\" >0.0513</td>\n",
       "                        <td id=\"T_dedc9_row5_col6\" class=\"data row5 col6\" >0.0338</td>\n",
       "                        <td id=\"T_dedc9_row5_col7\" class=\"data row5 col7\" >0.0401</td>\n",
       "                        <td id=\"T_dedc9_row5_col8\" class=\"data row5 col8\" >0.0220</td>\n",
       "            </tr>\n",
       "            <tr>\n",
       "                        <th id=\"T_dedc9_level0_row6\" class=\"row_heading level0 row6\" >ada</th>\n",
       "                        <td id=\"T_dedc9_row6_col0\" class=\"data row6 col0\" >Ada Boost Classifier</td>\n",
       "                        <td id=\"T_dedc9_row6_col1\" class=\"data row6 col1\" >0.9430</td>\n",
       "                        <td id=\"T_dedc9_row6_col2\" class=\"data row6 col2\" >0.7881</td>\n",
       "                        <td id=\"T_dedc9_row6_col3\" class=\"data row6 col3\" >0.0138</td>\n",
       "                        <td id=\"T_dedc9_row6_col4\" class=\"data row6 col4\" >0.0833</td>\n",
       "                        <td id=\"T_dedc9_row6_col5\" class=\"data row6 col5\" >0.0235</td>\n",
       "                        <td id=\"T_dedc9_row6_col6\" class=\"data row6 col6\" >0.0124</td>\n",
       "                        <td id=\"T_dedc9_row6_col7\" class=\"data row6 col7\" >0.0173</td>\n",
       "                        <td id=\"T_dedc9_row6_col8\" class=\"data row6 col8\" >0.0270</td>\n",
       "            </tr>\n",
       "            <tr>\n",
       "                        <th id=\"T_dedc9_level0_row7\" class=\"row_heading level0 row7\" >gbc</th>\n",
       "                        <td id=\"T_dedc9_row7_col0\" class=\"data row7 col0\" >Gradient Boosting Classifier</td>\n",
       "                        <td id=\"T_dedc9_row7_col1\" class=\"data row7 col1\" >0.9416</td>\n",
       "                        <td id=\"T_dedc9_row7_col2\" class=\"data row7 col2\" >0.8241</td>\n",
       "                        <td id=\"T_dedc9_row7_col3\" class=\"data row7 col3\" >0.0133</td>\n",
       "                        <td id=\"T_dedc9_row7_col4\" class=\"data row7 col4\" >0.0833</td>\n",
       "                        <td id=\"T_dedc9_row7_col5\" class=\"data row7 col5\" >0.0229</td>\n",
       "                        <td id=\"T_dedc9_row7_col6\" class=\"data row7 col6\" >0.0095</td>\n",
       "                        <td id=\"T_dedc9_row7_col7\" class=\"data row7 col7\" >0.0139</td>\n",
       "                        <td id=\"T_dedc9_row7_col8\" class=\"data row7 col8\" >0.0520</td>\n",
       "            </tr>\n",
       "            <tr>\n",
       "                        <th id=\"T_dedc9_level0_row8\" class=\"row_heading level0 row8\" >lr</th>\n",
       "                        <td id=\"T_dedc9_row8_col0\" class=\"data row8 col0\" >Logistic Regression</td>\n",
       "                        <td id=\"T_dedc9_row8_col1\" class=\"data row8 col1\" >0.9476</td>\n",
       "                        <td id=\"T_dedc9_row8_col2\" class=\"data row8 col2\" >0.7242</td>\n",
       "                        <td id=\"T_dedc9_row8_col3\" class=\"data row8 col3\" >0.0071</td>\n",
       "                        <td id=\"T_dedc9_row8_col4\" class=\"data row8 col4\" >0.1000</td>\n",
       "                        <td id=\"T_dedc9_row8_col5\" class=\"data row8 col5\" >0.0133</td>\n",
       "                        <td id=\"T_dedc9_row8_col6\" class=\"data row8 col6\" >0.0108</td>\n",
       "                        <td id=\"T_dedc9_row8_col7\" class=\"data row8 col7\" >0.0220</td>\n",
       "                        <td id=\"T_dedc9_row8_col8\" class=\"data row8 col8\" >0.4440</td>\n",
       "            </tr>\n",
       "            <tr>\n",
       "                        <th id=\"T_dedc9_level0_row9\" class=\"row_heading level0 row9\" >et</th>\n",
       "                        <td id=\"T_dedc9_row9_col0\" class=\"data row9 col0\" >Extra Trees Classifier</td>\n",
       "                        <td id=\"T_dedc9_row9_col1\" class=\"data row9 col1\" >0.9441</td>\n",
       "                        <td id=\"T_dedc9_row9_col2\" class=\"data row9 col2\" >0.7352</td>\n",
       "                        <td id=\"T_dedc9_row9_col3\" class=\"data row9 col3\" >0.0071</td>\n",
       "                        <td id=\"T_dedc9_row9_col4\" class=\"data row9 col4\" >0.0333</td>\n",
       "                        <td id=\"T_dedc9_row9_col5\" class=\"data row9 col5\" >0.0118</td>\n",
       "                        <td id=\"T_dedc9_row9_col6\" class=\"data row9 col6\" >0.0032</td>\n",
       "                        <td id=\"T_dedc9_row9_col7\" class=\"data row9 col7\" >0.0007</td>\n",
       "                        <td id=\"T_dedc9_row9_col8\" class=\"data row9 col8\" >0.0560</td>\n",
       "            </tr>\n",
       "            <tr>\n",
       "                        <th id=\"T_dedc9_level0_row10\" class=\"row_heading level0 row10\" >knn</th>\n",
       "                        <td id=\"T_dedc9_row10_col0\" class=\"data row10 col0\" >K Neighbors Classifier</td>\n",
       "                        <td id=\"T_dedc9_row10_col1\" class=\"data row10 col1\" >0.9479</td>\n",
       "                        <td id=\"T_dedc9_row10_col2\" class=\"data row10 col2\" >0.5188</td>\n",
       "                        <td id=\"T_dedc9_row10_col3\" class=\"data row10 col3\" >0.0000</td>\n",
       "                        <td id=\"T_dedc9_row10_col4\" class=\"data row10 col4\" >0.0000</td>\n",
       "                        <td id=\"T_dedc9_row10_col5\" class=\"data row10 col5\" >0.0000</td>\n",
       "                        <td id=\"T_dedc9_row10_col6\" class=\"data row10 col6\" >-0.0007</td>\n",
       "                        <td id=\"T_dedc9_row10_col7\" class=\"data row10 col7\" >-0.0014</td>\n",
       "                        <td id=\"T_dedc9_row10_col8\" class=\"data row10 col8\" >0.3270</td>\n",
       "            </tr>\n",
       "            <tr>\n",
       "                        <th id=\"T_dedc9_level0_row11\" class=\"row_heading level0 row11\" >ridge</th>\n",
       "                        <td id=\"T_dedc9_row11_col0\" class=\"data row11 col0\" >Ridge Classifier</td>\n",
       "                        <td id=\"T_dedc9_row11_col1\" class=\"data row11 col1\" >0.9483</td>\n",
       "                        <td id=\"T_dedc9_row11_col2\" class=\"data row11 col2\" >0.0000</td>\n",
       "                        <td id=\"T_dedc9_row11_col3\" class=\"data row11 col3\" >0.0000</td>\n",
       "                        <td id=\"T_dedc9_row11_col4\" class=\"data row11 col4\" >0.0000</td>\n",
       "                        <td id=\"T_dedc9_row11_col5\" class=\"data row11 col5\" >0.0000</td>\n",
       "                        <td id=\"T_dedc9_row11_col6\" class=\"data row11 col6\" >0.0000</td>\n",
       "                        <td id=\"T_dedc9_row11_col7\" class=\"data row11 col7\" >0.0000</td>\n",
       "                        <td id=\"T_dedc9_row11_col8\" class=\"data row11 col8\" >0.0060</td>\n",
       "            </tr>\n",
       "            <tr>\n",
       "                        <th id=\"T_dedc9_level0_row12\" class=\"row_heading level0 row12\" >rf</th>\n",
       "                        <td id=\"T_dedc9_row12_col0\" class=\"data row12 col0\" >Random Forest Classifier</td>\n",
       "                        <td id=\"T_dedc9_row12_col1\" class=\"data row12 col1\" >0.9469</td>\n",
       "                        <td id=\"T_dedc9_row12_col2\" class=\"data row12 col2\" >0.7893</td>\n",
       "                        <td id=\"T_dedc9_row12_col3\" class=\"data row12 col3\" >0.0000</td>\n",
       "                        <td id=\"T_dedc9_row12_col4\" class=\"data row12 col4\" >0.0000</td>\n",
       "                        <td id=\"T_dedc9_row12_col5\" class=\"data row12 col5\" >0.0000</td>\n",
       "                        <td id=\"T_dedc9_row12_col6\" class=\"data row12 col6\" >-0.0026</td>\n",
       "                        <td id=\"T_dedc9_row12_col7\" class=\"data row12 col7\" >-0.0047</td>\n",
       "                        <td id=\"T_dedc9_row12_col8\" class=\"data row12 col8\" >0.0600</td>\n",
       "            </tr>\n",
       "    </tbody></table>"
      ],
      "text/plain": [
       "<pandas.io.formats.style.Styler at 0x1b98b9959d0>"
      ]
     },
     "metadata": {},
     "output_type": "display_data"
    }
   ],
   "source": [
    "best_model = compare_models(sort = 'Recall')"
   ]
  },
  {
   "cell_type": "markdown",
   "metadata": {},
   "source": [
    "A avaliação foi improdutiva pois diversos modelos apresentaram Recall baixou e até zero.\n",
    "\n",
    "Isso indica que os modelos, como visível na matriz de confusão abaixo usando logistic regression, estão classificando sempre a mesma classe.\n",
    "\n",
    "Isso pode ser um sintoma da base ser desbalanceada em suas classes."
   ]
  },
  {
   "cell_type": "code",
   "execution_count": 19,
   "metadata": {
    "scrolled": true
   },
   "outputs": [
    {
     "data": {
      "image/png": "[encoded data removed]",
      "text/plain": [
       "<Figure size 576x396 with 1 Axes>"
      ]
     },
     "metadata": {},
     "output_type": "display_data"
    }
   ],
   "source": [
    "plot_model(create_model('ridge'), plot = 'confusion_matrix')"
   ]
  },
  {
   "cell_type": "markdown",
   "metadata": {},
   "source": [
    "#### Avaliando por AUC"
   ]
  },
  {
   "cell_type": "code",
   "execution_count": 20,
   "metadata": {
    "scrolled": false
   },
   "outputs": [
    {
     "data": {
      "text/html": [
       "<style  type=\"text/css\" >\n",
       "    #T_82474_ th {\n",
       "          text-align: left;\n",
       "    }#T_82474_row0_col0,#T_82474_row0_col1,#T_82474_row0_col3,#T_82474_row0_col4,#T_82474_row0_col5,#T_82474_row0_col6,#T_82474_row0_col7,#T_82474_row1_col0,#T_82474_row1_col1,#T_82474_row1_col2,#T_82474_row1_col3,#T_82474_row1_col5,#T_82474_row1_col6,#T_82474_row1_col7,#T_82474_row2_col0,#T_82474_row2_col1,#T_82474_row2_col2,#T_82474_row2_col3,#T_82474_row2_col4,#T_82474_row3_col0,#T_82474_row3_col1,#T_82474_row3_col2,#T_82474_row3_col3,#T_82474_row3_col4,#T_82474_row3_col5,#T_82474_row3_col6,#T_82474_row3_col7,#T_82474_row4_col0,#T_82474_row4_col1,#T_82474_row4_col2,#T_82474_row4_col3,#T_82474_row4_col4,#T_82474_row4_col5,#T_82474_row4_col6,#T_82474_row4_col7,#T_82474_row5_col0,#T_82474_row5_col1,#T_82474_row5_col2,#T_82474_row5_col3,#T_82474_row5_col4,#T_82474_row5_col5,#T_82474_row5_col6,#T_82474_row5_col7,#T_82474_row6_col0,#T_82474_row6_col1,#T_82474_row6_col2,#T_82474_row6_col3,#T_82474_row6_col4,#T_82474_row6_col5,#T_82474_row6_col6,#T_82474_row6_col7,#T_82474_row7_col0,#T_82474_row7_col1,#T_82474_row7_col2,#T_82474_row7_col3,#T_82474_row7_col4,#T_82474_row7_col5,#T_82474_row7_col6,#T_82474_row7_col7,#T_82474_row8_col0,#T_82474_row8_col1,#T_82474_row8_col2,#T_82474_row8_col3,#T_82474_row8_col4,#T_82474_row8_col5,#T_82474_row8_col6,#T_82474_row8_col7,#T_82474_row9_col0,#T_82474_row9_col1,#T_82474_row9_col2,#T_82474_row9_col3,#T_82474_row9_col4,#T_82474_row9_col5,#T_82474_row9_col6,#T_82474_row9_col7,#T_82474_row10_col0,#T_82474_row10_col1,#T_82474_row10_col2,#T_82474_row10_col4,#T_82474_row10_col5,#T_82474_row10_col6,#T_82474_row10_col7,#T_82474_row11_col0,#T_82474_row11_col1,#T_82474_row11_col2,#T_82474_row11_col3,#T_82474_row11_col4,#T_82474_row11_col5,#T_82474_row11_col6,#T_82474_row11_col7,#T_82474_row12_col0,#T_82474_row12_col2,#T_82474_row12_col3,#T_82474_row12_col4,#T_82474_row12_col5,#T_82474_row12_col6,#T_82474_row12_col7{\n",
       "            text-align:  left;\n",
       "            text-align:  left;\n",
       "        }#T_82474_row0_col2,#T_82474_row1_col4,#T_82474_row2_col5,#T_82474_row2_col6,#T_82474_row2_col7,#T_82474_row10_col3,#T_82474_row12_col1{\n",
       "            text-align:  left;\n",
       "            text-align:  left;\n",
       "            background-color:  yellow;\n",
       "        }#T_82474_row0_col8,#T_82474_row1_col8,#T_82474_row3_col8,#T_82474_row4_col8,#T_82474_row5_col8,#T_82474_row6_col8,#T_82474_row7_col8,#T_82474_row8_col8,#T_82474_row9_col8,#T_82474_row11_col8{\n",
       "            text-align:  left;\n",
       "            text-align:  left;\n",
       "            background-color:  lightgrey;\n",
       "        }#T_82474_row2_col8,#T_82474_row10_col8,#T_82474_row12_col8{\n",
       "            text-align:  left;\n",
       "            text-align:  left;\n",
       "            background-color:  yellow;\n",
       "            background-color:  lightgrey;\n",
       "        }</style><table id=\"T_82474_\" ><thead>    <tr>        <th class=\"blank level0\" ></th>        <th class=\"col_heading level0 col0\" >Model</th>        <th class=\"col_heading level0 col1\" >Accuracy</th>        <th class=\"col_heading level0 col2\" >AUC</th>        <th class=\"col_heading level0 col3\" >Recall</th>        <th class=\"col_heading level0 col4\" >Prec.</th>        <th class=\"col_heading level0 col5\" >F1</th>        <th class=\"col_heading level0 col6\" >Kappa</th>        <th class=\"col_heading level0 col7\" >MCC</th>        <th class=\"col_heading level0 col8\" >TT (Sec)</th>    </tr></thead><tbody>\n",
       "                <tr>\n",
       "                        <th id=\"T_82474_level0_row0\" class=\"row_heading level0 row0\" >gbc</th>\n",
       "                        <td id=\"T_82474_row0_col0\" class=\"data row0 col0\" >Gradient Boosting Classifier</td>\n",
       "                        <td id=\"T_82474_row0_col1\" class=\"data row0 col1\" >0.9416</td>\n",
       "                        <td id=\"T_82474_row0_col2\" class=\"data row0 col2\" >0.8241</td>\n",
       "                        <td id=\"T_82474_row0_col3\" class=\"data row0 col3\" >0.0133</td>\n",
       "                        <td id=\"T_82474_row0_col4\" class=\"data row0 col4\" >0.0833</td>\n",
       "                        <td id=\"T_82474_row0_col5\" class=\"data row0 col5\" >0.0229</td>\n",
       "                        <td id=\"T_82474_row0_col6\" class=\"data row0 col6\" >0.0095</td>\n",
       "                        <td id=\"T_82474_row0_col7\" class=\"data row0 col7\" >0.0139</td>\n",
       "                        <td id=\"T_82474_row0_col8\" class=\"data row0 col8\" >0.0520</td>\n",
       "            </tr>\n",
       "            <tr>\n",
       "                        <th id=\"T_82474_level0_row1\" class=\"row_heading level0 row1\" >lda</th>\n",
       "                        <td id=\"T_82474_row1_col0\" class=\"data row1 col0\" >Linear Discriminant Analysis</td>\n",
       "                        <td id=\"T_82474_row1_col1\" class=\"data row1 col1\" >0.9427</td>\n",
       "                        <td id=\"T_82474_row1_col2\" class=\"data row1 col2\" >0.8202</td>\n",
       "                        <td id=\"T_82474_row1_col3\" class=\"data row1 col3\" >0.0405</td>\n",
       "                        <td id=\"T_82474_row1_col4\" class=\"data row1 col4\" >0.3583</td>\n",
       "                        <td id=\"T_82474_row1_col5\" class=\"data row1 col5\" >0.0710</td>\n",
       "                        <td id=\"T_82474_row1_col6\" class=\"data row1 col6\" >0.0557</td>\n",
       "                        <td id=\"T_82474_row1_col7\" class=\"data row1 col7\" >0.0980</td>\n",
       "                        <td id=\"T_82474_row1_col8\" class=\"data row1 col8\" >0.0070</td>\n",
       "            </tr>\n",
       "            <tr>\n",
       "                        <th id=\"T_82474_level0_row2\" class=\"row_heading level0 row2\" >nb</th>\n",
       "                        <td id=\"T_82474_row2_col0\" class=\"data row2 col0\" >Naive Bayes</td>\n",
       "                        <td id=\"T_82474_row2_col1\" class=\"data row2 col1\" >0.9123</td>\n",
       "                        <td id=\"T_82474_row2_col2\" class=\"data row2 col2\" >0.8173</td>\n",
       "                        <td id=\"T_82474_row2_col3\" class=\"data row2 col3\" >0.1762</td>\n",
       "                        <td id=\"T_82474_row2_col4\" class=\"data row2 col4\" >0.1684</td>\n",
       "                        <td id=\"T_82474_row2_col5\" class=\"data row2 col5\" >0.1716</td>\n",
       "                        <td id=\"T_82474_row2_col6\" class=\"data row2 col6\" >0.1255</td>\n",
       "                        <td id=\"T_82474_row2_col7\" class=\"data row2 col7\" >0.1257</td>\n",
       "                        <td id=\"T_82474_row2_col8\" class=\"data row2 col8\" >0.0060</td>\n",
       "            </tr>\n",
       "            <tr>\n",
       "                        <th id=\"T_82474_level0_row3\" class=\"row_heading level0 row3\" >lightgbm</th>\n",
       "                        <td id=\"T_82474_row3_col0\" class=\"data row3 col0\" >Light Gradient Boosting Machine</td>\n",
       "                        <td id=\"T_82474_row3_col1\" class=\"data row3 col1\" >0.9402</td>\n",
       "                        <td id=\"T_82474_row3_col2\" class=\"data row3 col2\" >0.8128</td>\n",
       "                        <td id=\"T_82474_row3_col3\" class=\"data row3 col3\" >0.0333</td>\n",
       "                        <td id=\"T_82474_row3_col4\" class=\"data row3 col4\" >0.1200</td>\n",
       "                        <td id=\"T_82474_row3_col5\" class=\"data row3 col5\" >0.0513</td>\n",
       "                        <td id=\"T_82474_row3_col6\" class=\"data row3 col6\" >0.0338</td>\n",
       "                        <td id=\"T_82474_row3_col7\" class=\"data row3 col7\" >0.0401</td>\n",
       "                        <td id=\"T_82474_row3_col8\" class=\"data row3 col8\" >0.0210</td>\n",
       "            </tr>\n",
       "            <tr>\n",
       "                        <th id=\"T_82474_level0_row4\" class=\"row_heading level0 row4\" >rf</th>\n",
       "                        <td id=\"T_82474_row4_col0\" class=\"data row4 col0\" >Random Forest Classifier</td>\n",
       "                        <td id=\"T_82474_row4_col1\" class=\"data row4 col1\" >0.9469</td>\n",
       "                        <td id=\"T_82474_row4_col2\" class=\"data row4 col2\" >0.7893</td>\n",
       "                        <td id=\"T_82474_row4_col3\" class=\"data row4 col3\" >0.0000</td>\n",
       "                        <td id=\"T_82474_row4_col4\" class=\"data row4 col4\" >0.0000</td>\n",
       "                        <td id=\"T_82474_row4_col5\" class=\"data row4 col5\" >0.0000</td>\n",
       "                        <td id=\"T_82474_row4_col6\" class=\"data row4 col6\" >-0.0026</td>\n",
       "                        <td id=\"T_82474_row4_col7\" class=\"data row4 col7\" >-0.0047</td>\n",
       "                        <td id=\"T_82474_row4_col8\" class=\"data row4 col8\" >0.0590</td>\n",
       "            </tr>\n",
       "            <tr>\n",
       "                        <th id=\"T_82474_level0_row5\" class=\"row_heading level0 row5\" >ada</th>\n",
       "                        <td id=\"T_82474_row5_col0\" class=\"data row5 col0\" >Ada Boost Classifier</td>\n",
       "                        <td id=\"T_82474_row5_col1\" class=\"data row5 col1\" >0.9430</td>\n",
       "                        <td id=\"T_82474_row5_col2\" class=\"data row5 col2\" >0.7881</td>\n",
       "                        <td id=\"T_82474_row5_col3\" class=\"data row5 col3\" >0.0138</td>\n",
       "                        <td id=\"T_82474_row5_col4\" class=\"data row5 col4\" >0.0833</td>\n",
       "                        <td id=\"T_82474_row5_col5\" class=\"data row5 col5\" >0.0235</td>\n",
       "                        <td id=\"T_82474_row5_col6\" class=\"data row5 col6\" >0.0124</td>\n",
       "                        <td id=\"T_82474_row5_col7\" class=\"data row5 col7\" >0.0173</td>\n",
       "                        <td id=\"T_82474_row5_col8\" class=\"data row5 col8\" >0.0280</td>\n",
       "            </tr>\n",
       "            <tr>\n",
       "                        <th id=\"T_82474_level0_row6\" class=\"row_heading level0 row6\" >et</th>\n",
       "                        <td id=\"T_82474_row6_col0\" class=\"data row6 col0\" >Extra Trees Classifier</td>\n",
       "                        <td id=\"T_82474_row6_col1\" class=\"data row6 col1\" >0.9441</td>\n",
       "                        <td id=\"T_82474_row6_col2\" class=\"data row6 col2\" >0.7352</td>\n",
       "                        <td id=\"T_82474_row6_col3\" class=\"data row6 col3\" >0.0071</td>\n",
       "                        <td id=\"T_82474_row6_col4\" class=\"data row6 col4\" >0.0333</td>\n",
       "                        <td id=\"T_82474_row6_col5\" class=\"data row6 col5\" >0.0118</td>\n",
       "                        <td id=\"T_82474_row6_col6\" class=\"data row6 col6\" >0.0032</td>\n",
       "                        <td id=\"T_82474_row6_col7\" class=\"data row6 col7\" >0.0007</td>\n",
       "                        <td id=\"T_82474_row6_col8\" class=\"data row6 col8\" >0.0580</td>\n",
       "            </tr>\n",
       "            <tr>\n",
       "                        <th id=\"T_82474_level0_row7\" class=\"row_heading level0 row7\" >lr</th>\n",
       "                        <td id=\"T_82474_row7_col0\" class=\"data row7 col0\" >Logistic Regression</td>\n",
       "                        <td id=\"T_82474_row7_col1\" class=\"data row7 col1\" >0.9476</td>\n",
       "                        <td id=\"T_82474_row7_col2\" class=\"data row7 col2\" >0.7242</td>\n",
       "                        <td id=\"T_82474_row7_col3\" class=\"data row7 col3\" >0.0071</td>\n",
       "                        <td id=\"T_82474_row7_col4\" class=\"data row7 col4\" >0.1000</td>\n",
       "                        <td id=\"T_82474_row7_col5\" class=\"data row7 col5\" >0.0133</td>\n",
       "                        <td id=\"T_82474_row7_col6\" class=\"data row7 col6\" >0.0108</td>\n",
       "                        <td id=\"T_82474_row7_col7\" class=\"data row7 col7\" >0.0220</td>\n",
       "                        <td id=\"T_82474_row7_col8\" class=\"data row7 col8\" >0.0100</td>\n",
       "            </tr>\n",
       "            <tr>\n",
       "                        <th id=\"T_82474_level0_row8\" class=\"row_heading level0 row8\" >dt</th>\n",
       "                        <td id=\"T_82474_row8_col0\" class=\"data row8 col0\" >Decision Tree Classifier</td>\n",
       "                        <td id=\"T_82474_row8_col1\" class=\"data row8 col1\" >0.8997</td>\n",
       "                        <td id=\"T_82474_row8_col2\" class=\"data row8 col2\" >0.5381</td>\n",
       "                        <td id=\"T_82474_row8_col3\" class=\"data row8 col3\" >0.1348</td>\n",
       "                        <td id=\"T_82474_row8_col4\" class=\"data row8 col4\" >0.1140</td>\n",
       "                        <td id=\"T_82474_row8_col5\" class=\"data row8 col5\" >0.1228</td>\n",
       "                        <td id=\"T_82474_row8_col6\" class=\"data row8 col6\" >0.0703</td>\n",
       "                        <td id=\"T_82474_row8_col7\" class=\"data row8 col7\" >0.0708</td>\n",
       "                        <td id=\"T_82474_row8_col8\" class=\"data row8 col8\" >0.0070</td>\n",
       "            </tr>\n",
       "            <tr>\n",
       "                        <th id=\"T_82474_level0_row9\" class=\"row_heading level0 row9\" >knn</th>\n",
       "                        <td id=\"T_82474_row9_col0\" class=\"data row9 col0\" >K Neighbors Classifier</td>\n",
       "                        <td id=\"T_82474_row9_col1\" class=\"data row9 col1\" >0.9479</td>\n",
       "                        <td id=\"T_82474_row9_col2\" class=\"data row9 col2\" >0.5188</td>\n",
       "                        <td id=\"T_82474_row9_col3\" class=\"data row9 col3\" >0.0000</td>\n",
       "                        <td id=\"T_82474_row9_col4\" class=\"data row9 col4\" >0.0000</td>\n",
       "                        <td id=\"T_82474_row9_col5\" class=\"data row9 col5\" >0.0000</td>\n",
       "                        <td id=\"T_82474_row9_col6\" class=\"data row9 col6\" >-0.0007</td>\n",
       "                        <td id=\"T_82474_row9_col7\" class=\"data row9 col7\" >-0.0014</td>\n",
       "                        <td id=\"T_82474_row9_col8\" class=\"data row9 col8\" >0.0180</td>\n",
       "            </tr>\n",
       "            <tr>\n",
       "                        <th id=\"T_82474_level0_row10\" class=\"row_heading level0 row10\" >qda</th>\n",
       "                        <td id=\"T_82474_row10_col0\" class=\"data row10 col0\" >Quadratic Discriminant Analysis</td>\n",
       "                        <td id=\"T_82474_row10_col1\" class=\"data row10 col1\" >0.6535</td>\n",
       "                        <td id=\"T_82474_row10_col2\" class=\"data row10 col2\" >0.5065</td>\n",
       "                        <td id=\"T_82474_row10_col3\" class=\"data row10 col3\" >0.3429</td>\n",
       "                        <td id=\"T_82474_row10_col4\" class=\"data row10 col4\" >0.0496</td>\n",
       "                        <td id=\"T_82474_row10_col5\" class=\"data row10 col5\" >0.0817</td>\n",
       "                        <td id=\"T_82474_row10_col6\" class=\"data row10 col6\" >0.0011</td>\n",
       "                        <td id=\"T_82474_row10_col7\" class=\"data row10 col7\" >0.0040</td>\n",
       "                        <td id=\"T_82474_row10_col8\" class=\"data row10 col8\" >0.0060</td>\n",
       "            </tr>\n",
       "            <tr>\n",
       "                        <th id=\"T_82474_level0_row11\" class=\"row_heading level0 row11\" >svm</th>\n",
       "                        <td id=\"T_82474_row11_col0\" class=\"data row11 col0\" >SVM - Linear Kernel</td>\n",
       "                        <td id=\"T_82474_row11_col1\" class=\"data row11 col1\" >0.8521</td>\n",
       "                        <td id=\"T_82474_row11_col2\" class=\"data row11 col2\" >0.0000</td>\n",
       "                        <td id=\"T_82474_row11_col3\" class=\"data row11 col3\" >0.1071</td>\n",
       "                        <td id=\"T_82474_row11_col4\" class=\"data row11 col4\" >0.0299</td>\n",
       "                        <td id=\"T_82474_row11_col5\" class=\"data row11 col5\" >0.0204</td>\n",
       "                        <td id=\"T_82474_row11_col6\" class=\"data row11 col6\" >0.0004</td>\n",
       "                        <td id=\"T_82474_row11_col7\" class=\"data row11 col7\" >-0.0015</td>\n",
       "                        <td id=\"T_82474_row11_col8\" class=\"data row11 col8\" >0.0080</td>\n",
       "            </tr>\n",
       "            <tr>\n",
       "                        <th id=\"T_82474_level0_row12\" class=\"row_heading level0 row12\" >ridge</th>\n",
       "                        <td id=\"T_82474_row12_col0\" class=\"data row12 col0\" >Ridge Classifier</td>\n",
       "                        <td id=\"T_82474_row12_col1\" class=\"data row12 col1\" >0.9483</td>\n",
       "                        <td id=\"T_82474_row12_col2\" class=\"data row12 col2\" >0.0000</td>\n",
       "                        <td id=\"T_82474_row12_col3\" class=\"data row12 col3\" >0.0000</td>\n",
       "                        <td id=\"T_82474_row12_col4\" class=\"data row12 col4\" >0.0000</td>\n",
       "                        <td id=\"T_82474_row12_col5\" class=\"data row12 col5\" >0.0000</td>\n",
       "                        <td id=\"T_82474_row12_col6\" class=\"data row12 col6\" >0.0000</td>\n",
       "                        <td id=\"T_82474_row12_col7\" class=\"data row12 col7\" >0.0000</td>\n",
       "                        <td id=\"T_82474_row12_col8\" class=\"data row12 col8\" >0.0060</td>\n",
       "            </tr>\n",
       "    </tbody></table>"
      ],
      "text/plain": [
       "<pandas.io.formats.style.Styler at 0x1b98ce07c40>"
      ]
     },
     "metadata": {},
     "output_type": "display_data"
    }
   ],
   "source": [
    "best_model = compare_models(sort = 'AUC')"
   ]
  },
  {
   "cell_type": "markdown",
   "metadata": {},
   "source": [
    "Utilizar a métrica AUC é util quando estamos realizando classificação e é melhor para avaliar modelos em cross-validação."
   ]
  },
  {
   "cell_type": "markdown",
   "metadata": {},
   "source": [
    "## Modelos Selecionados:\n",
    "### Critérios:\n",
    "    - O Modelo não podia ter Recall zero;\n",
    "    - O Modelo deve ter bom desempenho na Acurácia e no AUC;\n",
    "    - Foram privilegiádos modelos de mais amplo uso no mercado.\n",
    "\n",
    "### Modelos:\n",
    "    - Naive Bayes - nb;\n",
    "    - Quadratic Discriminant Analysis - qda;\n",
    "    - Decision Tree Classifier - dt;"
   ]
  },
  {
   "cell_type": "markdown",
   "metadata": {},
   "source": [
    "### Naive Bayes"
   ]
  },
  {
   "cell_type": "code",
   "execution_count": 21,
   "metadata": {
    "scrolled": true
   },
   "outputs": [
    {
     "data": {
      "text/html": [
       "<style  type=\"text/css\" >\n",
       "#T_28b70_row10_col0,#T_28b70_row10_col1,#T_28b70_row10_col2,#T_28b70_row10_col3,#T_28b70_row10_col4,#T_28b70_row10_col5,#T_28b70_row10_col6{\n",
       "            background:  yellow;\n",
       "        }</style><table id=\"T_28b70_\" ><thead>    <tr>        <th class=\"blank level0\" ></th>        <th class=\"col_heading level0 col0\" >Accuracy</th>        <th class=\"col_heading level0 col1\" >AUC</th>        <th class=\"col_heading level0 col2\" >Recall</th>        <th class=\"col_heading level0 col3\" >Prec.</th>        <th class=\"col_heading level0 col4\" >F1</th>        <th class=\"col_heading level0 col5\" >Kappa</th>        <th class=\"col_heading level0 col6\" >MCC</th>    </tr></thead><tbody>\n",
       "                <tr>\n",
       "                        <th id=\"T_28b70_level0_row0\" class=\"row_heading level0 row0\" >0</th>\n",
       "                        <td id=\"T_28b70_row0_col0\" class=\"data row0 col0\" >0.8990</td>\n",
       "                        <td id=\"T_28b70_row0_col1\" class=\"data row0 col1\" >0.8211</td>\n",
       "                        <td id=\"T_28b70_row0_col2\" class=\"data row0 col2\" >0.0667</td>\n",
       "                        <td id=\"T_28b70_row0_col3\" class=\"data row0 col3\" >0.0625</td>\n",
       "                        <td id=\"T_28b70_row0_col4\" class=\"data row0 col4\" >0.0645</td>\n",
       "                        <td id=\"T_28b70_row0_col5\" class=\"data row0 col5\" >0.0112</td>\n",
       "                        <td id=\"T_28b70_row0_col6\" class=\"data row0 col6\" >0.0112</td>\n",
       "            </tr>\n",
       "            <tr>\n",
       "                        <th id=\"T_28b70_level0_row1\" class=\"row_heading level0 row1\" >1</th>\n",
       "                        <td id=\"T_28b70_row1_col0\" class=\"data row1 col0\" >0.9336</td>\n",
       "                        <td id=\"T_28b70_row1_col1\" class=\"data row1 col1\" >0.8238</td>\n",
       "                        <td id=\"T_28b70_row1_col2\" class=\"data row1 col2\" >0.2857</td>\n",
       "                        <td id=\"T_28b70_row1_col3\" class=\"data row1 col3\" >0.3077</td>\n",
       "                        <td id=\"T_28b70_row1_col4\" class=\"data row1 col4\" >0.2963</td>\n",
       "                        <td id=\"T_28b70_row1_col5\" class=\"data row1 col5\" >0.2615</td>\n",
       "                        <td id=\"T_28b70_row1_col6\" class=\"data row1 col6\" >0.2617</td>\n",
       "            </tr>\n",
       "            <tr>\n",
       "                        <th id=\"T_28b70_level0_row2\" class=\"row_heading level0 row2\" >2</th>\n",
       "                        <td id=\"T_28b70_row2_col0\" class=\"data row2 col0\" >0.9021</td>\n",
       "                        <td id=\"T_28b70_row2_col1\" class=\"data row2 col1\" >0.8301</td>\n",
       "                        <td id=\"T_28b70_row2_col2\" class=\"data row2 col2\" >0.1429</td>\n",
       "                        <td id=\"T_28b70_row2_col3\" class=\"data row2 col3\" >0.1111</td>\n",
       "                        <td id=\"T_28b70_row2_col4\" class=\"data row2 col4\" >0.1250</td>\n",
       "                        <td id=\"T_28b70_row2_col5\" class=\"data row2 col5\" >0.0740</td>\n",
       "                        <td id=\"T_28b70_row2_col6\" class=\"data row2 col6\" >0.0747</td>\n",
       "            </tr>\n",
       "            <tr>\n",
       "                        <th id=\"T_28b70_level0_row3\" class=\"row_heading level0 row3\" >3</th>\n",
       "                        <td id=\"T_28b70_row3_col0\" class=\"data row3 col0\" >0.8951</td>\n",
       "                        <td id=\"T_28b70_row3_col1\" class=\"data row3 col1\" >0.7934</td>\n",
       "                        <td id=\"T_28b70_row3_col2\" class=\"data row3 col2\" >0.1333</td>\n",
       "                        <td id=\"T_28b70_row3_col3\" class=\"data row3 col3\" >0.1053</td>\n",
       "                        <td id=\"T_28b70_row3_col4\" class=\"data row3 col4\" >0.1176</td>\n",
       "                        <td id=\"T_28b70_row3_col5\" class=\"data row3 col5\" >0.0627</td>\n",
       "                        <td id=\"T_28b70_row3_col6\" class=\"data row3 col6\" >0.0632</td>\n",
       "            </tr>\n",
       "            <tr>\n",
       "                        <th id=\"T_28b70_level0_row4\" class=\"row_heading level0 row4\" >4</th>\n",
       "                        <td id=\"T_28b70_row4_col0\" class=\"data row4 col0\" >0.9056</td>\n",
       "                        <td id=\"T_28b70_row4_col1\" class=\"data row4 col1\" >0.7806</td>\n",
       "                        <td id=\"T_28b70_row4_col2\" class=\"data row4 col2\" >0.1333</td>\n",
       "                        <td id=\"T_28b70_row4_col3\" class=\"data row4 col3\" >0.1250</td>\n",
       "                        <td id=\"T_28b70_row4_col4\" class=\"data row4 col4\" >0.1290</td>\n",
       "                        <td id=\"T_28b70_row4_col5\" class=\"data row4 col5\" >0.0792</td>\n",
       "                        <td id=\"T_28b70_row4_col6\" class=\"data row4 col6\" >0.0792</td>\n",
       "            </tr>\n",
       "            <tr>\n",
       "                        <th id=\"T_28b70_level0_row5\" class=\"row_heading level0 row5\" >5</th>\n",
       "                        <td id=\"T_28b70_row5_col0\" class=\"data row5 col0\" >0.9161</td>\n",
       "                        <td id=\"T_28b70_row5_col1\" class=\"data row5 col1\" >0.8317</td>\n",
       "                        <td id=\"T_28b70_row5_col2\" class=\"data row5 col2\" >0.1333</td>\n",
       "                        <td id=\"T_28b70_row5_col3\" class=\"data row5 col3\" >0.1538</td>\n",
       "                        <td id=\"T_28b70_row5_col4\" class=\"data row5 col4\" >0.1429</td>\n",
       "                        <td id=\"T_28b70_row5_col5\" class=\"data row5 col5\" >0.0990</td>\n",
       "                        <td id=\"T_28b70_row5_col6\" class=\"data row5 col6\" >0.0993</td>\n",
       "            </tr>\n",
       "            <tr>\n",
       "                        <th id=\"T_28b70_level0_row6\" class=\"row_heading level0 row6\" >6</th>\n",
       "                        <td id=\"T_28b70_row6_col0\" class=\"data row6 col0\" >0.8986</td>\n",
       "                        <td id=\"T_28b70_row6_col1\" class=\"data row6 col1\" >0.7542</td>\n",
       "                        <td id=\"T_28b70_row6_col2\" class=\"data row6 col2\" >0.0000</td>\n",
       "                        <td id=\"T_28b70_row6_col3\" class=\"data row6 col3\" >0.0000</td>\n",
       "                        <td id=\"T_28b70_row6_col4\" class=\"data row6 col4\" >0.0000</td>\n",
       "                        <td id=\"T_28b70_row6_col5\" class=\"data row6 col5\" >-0.0533</td>\n",
       "                        <td id=\"T_28b70_row6_col6\" class=\"data row6 col6\" >-0.0534</td>\n",
       "            </tr>\n",
       "            <tr>\n",
       "                        <th id=\"T_28b70_level0_row7\" class=\"row_heading level0 row7\" >7</th>\n",
       "                        <td id=\"T_28b70_row7_col0\" class=\"data row7 col0\" >0.9091</td>\n",
       "                        <td id=\"T_28b70_row7_col1\" class=\"data row7 col1\" >0.8342</td>\n",
       "                        <td id=\"T_28b70_row7_col2\" class=\"data row7 col2\" >0.1333</td>\n",
       "                        <td id=\"T_28b70_row7_col3\" class=\"data row7 col3\" >0.1333</td>\n",
       "                        <td id=\"T_28b70_row7_col4\" class=\"data row7 col4\" >0.1333</td>\n",
       "                        <td id=\"T_28b70_row7_col5\" class=\"data row7 col5\" >0.0854</td>\n",
       "                        <td id=\"T_28b70_row7_col6\" class=\"data row7 col6\" >0.0854</td>\n",
       "            </tr>\n",
       "            <tr>\n",
       "                        <th id=\"T_28b70_level0_row8\" class=\"row_heading level0 row8\" >8</th>\n",
       "                        <td id=\"T_28b70_row8_col0\" class=\"data row8 col0\" >0.9441</td>\n",
       "                        <td id=\"T_28b70_row8_col1\" class=\"data row8 col1\" >0.8935</td>\n",
       "                        <td id=\"T_28b70_row8_col2\" class=\"data row8 col2\" >0.5333</td>\n",
       "                        <td id=\"T_28b70_row8_col3\" class=\"data row8 col3\" >0.4706</td>\n",
       "                        <td id=\"T_28b70_row8_col4\" class=\"data row8 col4\" >0.5000</td>\n",
       "                        <td id=\"T_28b70_row8_col5\" class=\"data row8 col5\" >0.4705</td>\n",
       "                        <td id=\"T_28b70_row8_col6\" class=\"data row8 col6\" >0.4715</td>\n",
       "            </tr>\n",
       "            <tr>\n",
       "                        <th id=\"T_28b70_level0_row9\" class=\"row_heading level0 row9\" >9</th>\n",
       "                        <td id=\"T_28b70_row9_col0\" class=\"data row9 col0\" >0.9196</td>\n",
       "                        <td id=\"T_28b70_row9_col1\" class=\"data row9 col1\" >0.8101</td>\n",
       "                        <td id=\"T_28b70_row9_col2\" class=\"data row9 col2\" >0.2000</td>\n",
       "                        <td id=\"T_28b70_row9_col3\" class=\"data row9 col3\" >0.2143</td>\n",
       "                        <td id=\"T_28b70_row9_col4\" class=\"data row9 col4\" >0.2069</td>\n",
       "                        <td id=\"T_28b70_row9_col5\" class=\"data row9 col5\" >0.1646</td>\n",
       "                        <td id=\"T_28b70_row9_col6\" class=\"data row9 col6\" >0.1647</td>\n",
       "            </tr>\n",
       "            <tr>\n",
       "                        <th id=\"T_28b70_level0_row10\" class=\"row_heading level0 row10\" >Mean</th>\n",
       "                        <td id=\"T_28b70_row10_col0\" class=\"data row10 col0\" >0.9123</td>\n",
       "                        <td id=\"T_28b70_row10_col1\" class=\"data row10 col1\" >0.8173</td>\n",
       "                        <td id=\"T_28b70_row10_col2\" class=\"data row10 col2\" >0.1762</td>\n",
       "                        <td id=\"T_28b70_row10_col3\" class=\"data row10 col3\" >0.1684</td>\n",
       "                        <td id=\"T_28b70_row10_col4\" class=\"data row10 col4\" >0.1716</td>\n",
       "                        <td id=\"T_28b70_row10_col5\" class=\"data row10 col5\" >0.1255</td>\n",
       "                        <td id=\"T_28b70_row10_col6\" class=\"data row10 col6\" >0.1257</td>\n",
       "            </tr>\n",
       "            <tr>\n",
       "                        <th id=\"T_28b70_level0_row11\" class=\"row_heading level0 row11\" >SD</th>\n",
       "                        <td id=\"T_28b70_row11_col0\" class=\"data row11 col0\" >0.0153</td>\n",
       "                        <td id=\"T_28b70_row11_col1\" class=\"data row11 col1\" >0.0353</td>\n",
       "                        <td id=\"T_28b70_row11_col2\" class=\"data row11 col2\" >0.1384</td>\n",
       "                        <td id=\"T_28b70_row11_col3\" class=\"data row11 col3\" >0.1277</td>\n",
       "                        <td id=\"T_28b70_row11_col4\" class=\"data row11 col4\" >0.1322</td>\n",
       "                        <td id=\"T_28b70_row11_col5\" class=\"data row11 col5\" >0.1397</td>\n",
       "                        <td id=\"T_28b70_row11_col6\" class=\"data row11 col6\" >0.1399</td>\n",
       "            </tr>\n",
       "    </tbody></table>"
      ],
      "text/plain": [
       "<pandas.io.formats.style.Styler at 0x1b989ba7670>"
      ]
     },
     "metadata": {},
     "output_type": "display_data"
    }
   ],
   "source": [
    "nb = create_model('nb')"
   ]
  },
  {
   "cell_type": "code",
   "execution_count": 22,
   "metadata": {},
   "outputs": [
    {
     "name": "stdout",
     "output_type": "stream",
     "text": [
      "GaussianNB(priors=None, var_smoothing=1e-09)\n"
     ]
    }
   ],
   "source": [
    "print(nb)"
   ]
  },
  {
   "cell_type": "markdown",
   "metadata": {},
   "source": [
    "### Quadratic Discriminant Analysis"
   ]
  },
  {
   "cell_type": "code",
   "execution_count": 23,
   "metadata": {},
   "outputs": [
    {
     "data": {
      "text/html": [
       "<style  type=\"text/css\" >\n",
       "#T_2cd9f_row10_col0,#T_2cd9f_row10_col1,#T_2cd9f_row10_col2,#T_2cd9f_row10_col3,#T_2cd9f_row10_col4,#T_2cd9f_row10_col5,#T_2cd9f_row10_col6{\n",
       "            background:  yellow;\n",
       "        }</style><table id=\"T_2cd9f_\" ><thead>    <tr>        <th class=\"blank level0\" ></th>        <th class=\"col_heading level0 col0\" >Accuracy</th>        <th class=\"col_heading level0 col1\" >AUC</th>        <th class=\"col_heading level0 col2\" >Recall</th>        <th class=\"col_heading level0 col3\" >Prec.</th>        <th class=\"col_heading level0 col4\" >F1</th>        <th class=\"col_heading level0 col5\" >Kappa</th>        <th class=\"col_heading level0 col6\" >MCC</th>    </tr></thead><tbody>\n",
       "                <tr>\n",
       "                        <th id=\"T_2cd9f_level0_row0\" class=\"row_heading level0 row0\" >0</th>\n",
       "                        <td id=\"T_2cd9f_row0_col0\" class=\"data row0 col0\" >0.9059</td>\n",
       "                        <td id=\"T_2cd9f_row0_col1\" class=\"data row0 col1\" >0.4779</td>\n",
       "                        <td id=\"T_2cd9f_row0_col2\" class=\"data row0 col2\" >0.0000</td>\n",
       "                        <td id=\"T_2cd9f_row0_col3\" class=\"data row0 col3\" >0.0000</td>\n",
       "                        <td id=\"T_2cd9f_row0_col4\" class=\"data row0 col4\" >0.0000</td>\n",
       "                        <td id=\"T_2cd9f_row0_col5\" class=\"data row0 col5\" >-0.0487</td>\n",
       "                        <td id=\"T_2cd9f_row0_col6\" class=\"data row0 col6\" >-0.0491</td>\n",
       "            </tr>\n",
       "            <tr>\n",
       "                        <th id=\"T_2cd9f_level0_row1\" class=\"row_heading level0 row1\" >1</th>\n",
       "                        <td id=\"T_2cd9f_row1_col0\" class=\"data row1 col0\" >0.8252</td>\n",
       "                        <td id=\"T_2cd9f_row1_col1\" class=\"data row1 col1\" >0.5693</td>\n",
       "                        <td id=\"T_2cd9f_row1_col2\" class=\"data row1 col2\" >0.2857</td>\n",
       "                        <td id=\"T_2cd9f_row1_col3\" class=\"data row1 col3\" >0.0909</td>\n",
       "                        <td id=\"T_2cd9f_row1_col4\" class=\"data row1 col4\" >0.1379</td>\n",
       "                        <td id=\"T_2cd9f_row1_col5\" class=\"data row1 col5\" >0.0688</td>\n",
       "                        <td id=\"T_2cd9f_row1_col6\" class=\"data row1 col6\" >0.0829</td>\n",
       "            </tr>\n",
       "            <tr>\n",
       "                        <th id=\"T_2cd9f_level0_row2\" class=\"row_heading level0 row2\" >2</th>\n",
       "                        <td id=\"T_2cd9f_row2_col0\" class=\"data row2 col0\" >0.8357</td>\n",
       "                        <td id=\"T_2cd9f_row2_col1\" class=\"data row2 col1\" >0.5071</td>\n",
       "                        <td id=\"T_2cd9f_row2_col2\" class=\"data row2 col2\" >0.1429</td>\n",
       "                        <td id=\"T_2cd9f_row2_col3\" class=\"data row2 col3\" >0.0541</td>\n",
       "                        <td id=\"T_2cd9f_row2_col4\" class=\"data row2 col4\" >0.0784</td>\n",
       "                        <td id=\"T_2cd9f_row2_col5\" class=\"data row2 col5\" >0.0080</td>\n",
       "                        <td id=\"T_2cd9f_row2_col6\" class=\"data row2 col6\" >0.0091</td>\n",
       "            </tr>\n",
       "            <tr>\n",
       "                        <th id=\"T_2cd9f_level0_row3\" class=\"row_heading level0 row3\" >3</th>\n",
       "                        <td id=\"T_2cd9f_row3_col0\" class=\"data row3 col0\" >0.8357</td>\n",
       "                        <td id=\"T_2cd9f_row3_col1\" class=\"data row3 col1\" >0.4410</td>\n",
       "                        <td id=\"T_2cd9f_row3_col2\" class=\"data row3 col2\" >0.0000</td>\n",
       "                        <td id=\"T_2cd9f_row3_col3\" class=\"data row3 col3\" >0.0000</td>\n",
       "                        <td id=\"T_2cd9f_row3_col4\" class=\"data row3 col4\" >0.0000</td>\n",
       "                        <td id=\"T_2cd9f_row3_col5\" class=\"data row3 col5\" >-0.0769</td>\n",
       "                        <td id=\"T_2cd9f_row3_col6\" class=\"data row3 col6\" >-0.0835</td>\n",
       "            </tr>\n",
       "            <tr>\n",
       "                        <th id=\"T_2cd9f_level0_row4\" class=\"row_heading level0 row4\" >4</th>\n",
       "                        <td id=\"T_2cd9f_row4_col0\" class=\"data row4 col0\" >0.0524</td>\n",
       "                        <td id=\"T_2cd9f_row4_col1\" class=\"data row4 col1\" >0.5000</td>\n",
       "                        <td id=\"T_2cd9f_row4_col2\" class=\"data row4 col2\" >1.0000</td>\n",
       "                        <td id=\"T_2cd9f_row4_col3\" class=\"data row4 col3\" >0.0524</td>\n",
       "                        <td id=\"T_2cd9f_row4_col4\" class=\"data row4 col4\" >0.0997</td>\n",
       "                        <td id=\"T_2cd9f_row4_col5\" class=\"data row4 col5\" >0.0000</td>\n",
       "                        <td id=\"T_2cd9f_row4_col6\" class=\"data row4 col6\" >0.0000</td>\n",
       "            </tr>\n",
       "            <tr>\n",
       "                        <th id=\"T_2cd9f_level0_row5\" class=\"row_heading level0 row5\" >5</th>\n",
       "                        <td id=\"T_2cd9f_row5_col0\" class=\"data row5 col0\" >0.6853</td>\n",
       "                        <td id=\"T_2cd9f_row5_col1\" class=\"data row5 col1\" >0.5191</td>\n",
       "                        <td id=\"T_2cd9f_row5_col2\" class=\"data row5 col2\" >0.3333</td>\n",
       "                        <td id=\"T_2cd9f_row5_col3\" class=\"data row5 col3\" >0.0588</td>\n",
       "                        <td id=\"T_2cd9f_row5_col4\" class=\"data row5 col4\" >0.1000</td>\n",
       "                        <td id=\"T_2cd9f_row5_col5\" class=\"data row5 col5\" >0.0119</td>\n",
       "                        <td id=\"T_2cd9f_row5_col6\" class=\"data row5 col6\" >0.0186</td>\n",
       "            </tr>\n",
       "            <tr>\n",
       "                        <th id=\"T_2cd9f_level0_row6\" class=\"row_heading level0 row6\" >6</th>\n",
       "                        <td id=\"T_2cd9f_row6_col0\" class=\"data row6 col0\" >0.4545</td>\n",
       "                        <td id=\"T_2cd9f_row6_col1\" class=\"data row6 col1\" >0.4603</td>\n",
       "                        <td id=\"T_2cd9f_row6_col2\" class=\"data row6 col2\" >0.4667</td>\n",
       "                        <td id=\"T_2cd9f_row6_col3\" class=\"data row6 col3\" >0.0452</td>\n",
       "                        <td id=\"T_2cd9f_row6_col4\" class=\"data row6 col4\" >0.0824</td>\n",
       "                        <td id=\"T_2cd9f_row6_col5\" class=\"data row6 col5\" >-0.0147</td>\n",
       "                        <td id=\"T_2cd9f_row6_col6\" class=\"data row6 col6\" >-0.0356</td>\n",
       "            </tr>\n",
       "            <tr>\n",
       "                        <th id=\"T_2cd9f_level0_row7\" class=\"row_heading level0 row7\" >7</th>\n",
       "                        <td id=\"T_2cd9f_row7_col0\" class=\"data row7 col0\" >0.4650</td>\n",
       "                        <td id=\"T_2cd9f_row7_col1\" class=\"data row7 col1\" >0.5603</td>\n",
       "                        <td id=\"T_2cd9f_row7_col2\" class=\"data row7 col2\" >0.6667</td>\n",
       "                        <td id=\"T_2cd9f_row7_col3\" class=\"data row7 col3\" >0.0633</td>\n",
       "                        <td id=\"T_2cd9f_row7_col4\" class=\"data row7 col4\" >0.1156</td>\n",
       "                        <td id=\"T_2cd9f_row7_col5\" class=\"data row7 col5\" >0.0219</td>\n",
       "                        <td id=\"T_2cd9f_row7_col6\" class=\"data row7 col6\" >0.0540</td>\n",
       "            </tr>\n",
       "            <tr>\n",
       "                        <th id=\"T_2cd9f_level0_row8\" class=\"row_heading level0 row8\" >8</th>\n",
       "                        <td id=\"T_2cd9f_row8_col0\" class=\"data row8 col0\" >0.6364</td>\n",
       "                        <td id=\"T_2cd9f_row8_col1\" class=\"data row8 col1\" >0.4932</td>\n",
       "                        <td id=\"T_2cd9f_row8_col2\" class=\"data row8 col2\" >0.3333</td>\n",
       "                        <td id=\"T_2cd9f_row8_col3\" class=\"data row8 col3\" >0.0505</td>\n",
       "                        <td id=\"T_2cd9f_row8_col4\" class=\"data row8 col4\" >0.0877</td>\n",
       "                        <td id=\"T_2cd9f_row8_col5\" class=\"data row8 col5\" >-0.0037</td>\n",
       "                        <td id=\"T_2cd9f_row8_col6\" class=\"data row8 col6\" >-0.0063</td>\n",
       "            </tr>\n",
       "            <tr>\n",
       "                        <th id=\"T_2cd9f_level0_row9\" class=\"row_heading level0 row9\" >9</th>\n",
       "                        <td id=\"T_2cd9f_row9_col0\" class=\"data row9 col0\" >0.8392</td>\n",
       "                        <td id=\"T_2cd9f_row9_col1\" class=\"data row9 col1\" >0.5373</td>\n",
       "                        <td id=\"T_2cd9f_row9_col2\" class=\"data row9 col2\" >0.2000</td>\n",
       "                        <td id=\"T_2cd9f_row9_col3\" class=\"data row9 col3\" >0.0811</td>\n",
       "                        <td id=\"T_2cd9f_row9_col4\" class=\"data row9 col4\" >0.1154</td>\n",
       "                        <td id=\"T_2cd9f_row9_col5\" class=\"data row9 col5\" >0.0440</td>\n",
       "                        <td id=\"T_2cd9f_row9_col6\" class=\"data row9 col6\" >0.0495</td>\n",
       "            </tr>\n",
       "            <tr>\n",
       "                        <th id=\"T_2cd9f_level0_row10\" class=\"row_heading level0 row10\" >Mean</th>\n",
       "                        <td id=\"T_2cd9f_row10_col0\" class=\"data row10 col0\" >0.6535</td>\n",
       "                        <td id=\"T_2cd9f_row10_col1\" class=\"data row10 col1\" >0.5065</td>\n",
       "                        <td id=\"T_2cd9f_row10_col2\" class=\"data row10 col2\" >0.3429</td>\n",
       "                        <td id=\"T_2cd9f_row10_col3\" class=\"data row10 col3\" >0.0496</td>\n",
       "                        <td id=\"T_2cd9f_row10_col4\" class=\"data row10 col4\" >0.0817</td>\n",
       "                        <td id=\"T_2cd9f_row10_col5\" class=\"data row10 col5\" >0.0011</td>\n",
       "                        <td id=\"T_2cd9f_row10_col6\" class=\"data row10 col6\" >0.0040</td>\n",
       "            </tr>\n",
       "            <tr>\n",
       "                        <th id=\"T_2cd9f_level0_row11\" class=\"row_heading level0 row11\" >SD</th>\n",
       "                        <td id=\"T_2cd9f_row11_col0\" class=\"data row11 col0\" >0.2513</td>\n",
       "                        <td id=\"T_2cd9f_row11_col1\" class=\"data row11 col1\" >0.0393</td>\n",
       "                        <td id=\"T_2cd9f_row11_col2\" class=\"data row11 col2\" >0.2917</td>\n",
       "                        <td id=\"T_2cd9f_row11_col3\" class=\"data row11 col3\" >0.0282</td>\n",
       "                        <td id=\"T_2cd9f_row11_col4\" class=\"data row11 col4\" >0.0442</td>\n",
       "                        <td id=\"T_2cd9f_row11_col5\" class=\"data row11 col5\" >0.0398</td>\n",
       "                        <td id=\"T_2cd9f_row11_col6\" class=\"data row11 col6\" >0.0482</td>\n",
       "            </tr>\n",
       "    </tbody></table>"
      ],
      "text/plain": [
       "<pandas.io.formats.style.Styler at 0x1b989ba7d60>"
      ]
     },
     "metadata": {},
     "output_type": "display_data"
    }
   ],
   "source": [
    "qda = create_model('qda')"
   ]
  },
  {
   "cell_type": "code",
   "execution_count": 24,
   "metadata": {},
   "outputs": [
    {
     "ename": "NameError",
     "evalue": "name 'lightgbm' is not defined",
     "output_type": "error",
     "traceback": [
      "\u001b[1;31m---------------------------------------------------------------------------\u001b[0m",
      "\u001b[1;31mNameError\u001b[0m                                 Traceback (most recent call last)",
      "\u001b[1;32m<ipython-input-24-574f6f6c1da2>\u001b[0m in \u001b[0;36m<module>\u001b[1;34m\u001b[0m\n\u001b[1;32m----> 1\u001b[1;33m \u001b[0mprint\u001b[0m\u001b[1;33m(\u001b[0m\u001b[0mlightgbm\u001b[0m\u001b[1;33m)\u001b[0m\u001b[1;33m\u001b[0m\u001b[1;33m\u001b[0m\u001b[0m\n\u001b[0m",
      "\u001b[1;31mNameError\u001b[0m: name 'lightgbm' is not defined"
     ]
    }
   ],
   "source": [
    "print(lightgbm)"
   ]
  },
  {
   "cell_type": "markdown",
   "metadata": {},
   "source": [
    "### Decision Tree Classifier"
   ]
  },
  {
   "cell_type": "code",
   "execution_count": 25,
   "metadata": {},
   "outputs": [
    {
     "data": {
      "text/html": [
       "<style  type=\"text/css\" >\n",
       "#T_16443_row10_col0,#T_16443_row10_col1,#T_16443_row10_col2,#T_16443_row10_col3,#T_16443_row10_col4,#T_16443_row10_col5,#T_16443_row10_col6{\n",
       "            background:  yellow;\n",
       "        }</style><table id=\"T_16443_\" ><thead>    <tr>        <th class=\"blank level0\" ></th>        <th class=\"col_heading level0 col0\" >Accuracy</th>        <th class=\"col_heading level0 col1\" >AUC</th>        <th class=\"col_heading level0 col2\" >Recall</th>        <th class=\"col_heading level0 col3\" >Prec.</th>        <th class=\"col_heading level0 col4\" >F1</th>        <th class=\"col_heading level0 col5\" >Kappa</th>        <th class=\"col_heading level0 col6\" >MCC</th>    </tr></thead><tbody>\n",
       "                <tr>\n",
       "                        <th id=\"T_16443_level0_row0\" class=\"row_heading level0 row0\" >0</th>\n",
       "                        <td id=\"T_16443_row0_col0\" class=\"data row0 col0\" >0.8990</td>\n",
       "                        <td id=\"T_16443_row0_col1\" class=\"data row0 col1\" >0.5373</td>\n",
       "                        <td id=\"T_16443_row0_col2\" class=\"data row0 col2\" >0.1333</td>\n",
       "                        <td id=\"T_16443_row0_col3\" class=\"data row0 col3\" >0.1111</td>\n",
       "                        <td id=\"T_16443_row0_col4\" class=\"data row0 col4\" >0.1212</td>\n",
       "                        <td id=\"T_16443_row0_col5\" class=\"data row0 col5\" >0.0681</td>\n",
       "                        <td id=\"T_16443_row0_col6\" class=\"data row0 col6\" >0.0684</td>\n",
       "            </tr>\n",
       "            <tr>\n",
       "                        <th id=\"T_16443_level0_row1\" class=\"row_heading level0 row1\" >1</th>\n",
       "                        <td id=\"T_16443_row1_col0\" class=\"data row1 col0\" >0.8881</td>\n",
       "                        <td id=\"T_16443_row1_col1\" class=\"data row1 col1\" >0.5008</td>\n",
       "                        <td id=\"T_16443_row1_col2\" class=\"data row1 col2\" >0.0714</td>\n",
       "                        <td id=\"T_16443_row1_col3\" class=\"data row1 col3\" >0.0500</td>\n",
       "                        <td id=\"T_16443_row1_col4\" class=\"data row1 col4\" >0.0588</td>\n",
       "                        <td id=\"T_16443_row1_col5\" class=\"data row1 col5\" >0.0013</td>\n",
       "                        <td id=\"T_16443_row1_col6\" class=\"data row1 col6\" >0.0013</td>\n",
       "            </tr>\n",
       "            <tr>\n",
       "                        <th id=\"T_16443_level0_row2\" class=\"row_heading level0 row2\" >2</th>\n",
       "                        <td id=\"T_16443_row2_col0\" class=\"data row2 col0\" >0.9021</td>\n",
       "                        <td id=\"T_16443_row2_col1\" class=\"data row2 col1\" >0.5420</td>\n",
       "                        <td id=\"T_16443_row2_col2\" class=\"data row2 col2\" >0.1429</td>\n",
       "                        <td id=\"T_16443_row2_col3\" class=\"data row2 col3\" >0.1111</td>\n",
       "                        <td id=\"T_16443_row2_col4\" class=\"data row2 col4\" >0.1250</td>\n",
       "                        <td id=\"T_16443_row2_col5\" class=\"data row2 col5\" >0.0740</td>\n",
       "                        <td id=\"T_16443_row2_col6\" class=\"data row2 col6\" >0.0747</td>\n",
       "            </tr>\n",
       "            <tr>\n",
       "                        <th id=\"T_16443_level0_row3\" class=\"row_heading level0 row3\" >3</th>\n",
       "                        <td id=\"T_16443_row3_col0\" class=\"data row3 col0\" >0.8986</td>\n",
       "                        <td id=\"T_16443_row3_col1\" class=\"data row3 col1\" >0.5371</td>\n",
       "                        <td id=\"T_16443_row3_col2\" class=\"data row3 col2\" >0.1333</td>\n",
       "                        <td id=\"T_16443_row3_col3\" class=\"data row3 col3\" >0.1111</td>\n",
       "                        <td id=\"T_16443_row3_col4\" class=\"data row3 col4\" >0.1212</td>\n",
       "                        <td id=\"T_16443_row3_col5\" class=\"data row3 col5\" >0.0679</td>\n",
       "                        <td id=\"T_16443_row3_col6\" class=\"data row3 col6\" >0.0682</td>\n",
       "            </tr>\n",
       "            <tr>\n",
       "                        <th id=\"T_16443_level0_row4\" class=\"row_heading level0 row4\" >4</th>\n",
       "                        <td id=\"T_16443_row4_col0\" class=\"data row4 col0\" >0.9196</td>\n",
       "                        <td id=\"T_16443_row4_col1\" class=\"data row4 col1\" >0.5482</td>\n",
       "                        <td id=\"T_16443_row4_col2\" class=\"data row4 col2\" >0.1333</td>\n",
       "                        <td id=\"T_16443_row4_col3\" class=\"data row4 col3\" >0.1667</td>\n",
       "                        <td id=\"T_16443_row4_col4\" class=\"data row4 col4\" >0.1481</td>\n",
       "                        <td id=\"T_16443_row4_col5\" class=\"data row4 col5\" >0.1065</td>\n",
       "                        <td id=\"T_16443_row4_col6\" class=\"data row4 col6\" >0.1072</td>\n",
       "            </tr>\n",
       "            <tr>\n",
       "                        <th id=\"T_16443_level0_row5\" class=\"row_heading level0 row5\" >5</th>\n",
       "                        <td id=\"T_16443_row5_col0\" class=\"data row5 col0\" >0.9056</td>\n",
       "                        <td id=\"T_16443_row5_col1\" class=\"data row5 col1\" >0.5723</td>\n",
       "                        <td id=\"T_16443_row5_col2\" class=\"data row5 col2\" >0.2000</td>\n",
       "                        <td id=\"T_16443_row5_col3\" class=\"data row5 col3\" >0.1667</td>\n",
       "                        <td id=\"T_16443_row5_col4\" class=\"data row5 col4\" >0.1818</td>\n",
       "                        <td id=\"T_16443_row5_col5\" class=\"data row5 col5\" >0.1322</td>\n",
       "                        <td id=\"T_16443_row5_col6\" class=\"data row5 col6\" >0.1328</td>\n",
       "            </tr>\n",
       "            <tr>\n",
       "                        <th id=\"T_16443_level0_row6\" class=\"row_heading level0 row6\" >6</th>\n",
       "                        <td id=\"T_16443_row6_col0\" class=\"data row6 col0\" >0.9021</td>\n",
       "                        <td id=\"T_16443_row6_col1\" class=\"data row6 col1\" >0.5390</td>\n",
       "                        <td id=\"T_16443_row6_col2\" class=\"data row6 col2\" >0.1333</td>\n",
       "                        <td id=\"T_16443_row6_col3\" class=\"data row6 col3\" >0.1176</td>\n",
       "                        <td id=\"T_16443_row6_col4\" class=\"data row6 col4\" >0.1250</td>\n",
       "                        <td id=\"T_16443_row6_col5\" class=\"data row6 col5\" >0.0734</td>\n",
       "                        <td id=\"T_16443_row6_col6\" class=\"data row6 col6\" >0.0735</td>\n",
       "            </tr>\n",
       "            <tr>\n",
       "                        <th id=\"T_16443_level0_row7\" class=\"row_heading level0 row7\" >7</th>\n",
       "                        <td id=\"T_16443_row7_col0\" class=\"data row7 col0\" >0.8916</td>\n",
       "                        <td id=\"T_16443_row7_col1\" class=\"data row7 col1\" >0.5020</td>\n",
       "                        <td id=\"T_16443_row7_col2\" class=\"data row7 col2\" >0.0667</td>\n",
       "                        <td id=\"T_16443_row7_col3\" class=\"data row7 col3\" >0.0556</td>\n",
       "                        <td id=\"T_16443_row7_col4\" class=\"data row7 col4\" >0.0606</td>\n",
       "                        <td id=\"T_16443_row7_col5\" class=\"data row7 col5\" >0.0036</td>\n",
       "                        <td id=\"T_16443_row7_col6\" class=\"data row7 col6\" >0.0036</td>\n",
       "            </tr>\n",
       "            <tr>\n",
       "                        <th id=\"T_16443_level0_row8\" class=\"row_heading level0 row8\" >8</th>\n",
       "                        <td id=\"T_16443_row8_col0\" class=\"data row8 col0\" >0.8916</td>\n",
       "                        <td id=\"T_16443_row8_col1\" class=\"data row8 col1\" >0.5335</td>\n",
       "                        <td id=\"T_16443_row8_col2\" class=\"data row8 col2\" >0.1333</td>\n",
       "                        <td id=\"T_16443_row8_col3\" class=\"data row8 col3\" >0.1000</td>\n",
       "                        <td id=\"T_16443_row8_col4\" class=\"data row8 col4\" >0.1143</td>\n",
       "                        <td id=\"T_16443_row8_col5\" class=\"data row8 col5\" >0.0578</td>\n",
       "                        <td id=\"T_16443_row8_col6\" class=\"data row8 col6\" >0.0585</td>\n",
       "            </tr>\n",
       "            <tr>\n",
       "                        <th id=\"T_16443_level0_row9\" class=\"row_heading level0 row9\" >9</th>\n",
       "                        <td id=\"T_16443_row9_col0\" class=\"data row9 col0\" >0.8986</td>\n",
       "                        <td id=\"T_16443_row9_col1\" class=\"data row9 col1\" >0.5686</td>\n",
       "                        <td id=\"T_16443_row9_col2\" class=\"data row9 col2\" >0.2000</td>\n",
       "                        <td id=\"T_16443_row9_col3\" class=\"data row9 col3\" >0.1500</td>\n",
       "                        <td id=\"T_16443_row9_col4\" class=\"data row9 col4\" >0.1714</td>\n",
       "                        <td id=\"T_16443_row9_col5\" class=\"data row9 col5\" >0.1186</td>\n",
       "                        <td id=\"T_16443_row9_col6\" class=\"data row9 col6\" >0.1200</td>\n",
       "            </tr>\n",
       "            <tr>\n",
       "                        <th id=\"T_16443_level0_row10\" class=\"row_heading level0 row10\" >Mean</th>\n",
       "                        <td id=\"T_16443_row10_col0\" class=\"data row10 col0\" >0.8997</td>\n",
       "                        <td id=\"T_16443_row10_col1\" class=\"data row10 col1\" >0.5381</td>\n",
       "                        <td id=\"T_16443_row10_col2\" class=\"data row10 col2\" >0.1348</td>\n",
       "                        <td id=\"T_16443_row10_col3\" class=\"data row10 col3\" >0.1140</td>\n",
       "                        <td id=\"T_16443_row10_col4\" class=\"data row10 col4\" >0.1228</td>\n",
       "                        <td id=\"T_16443_row10_col5\" class=\"data row10 col5\" >0.0703</td>\n",
       "                        <td id=\"T_16443_row10_col6\" class=\"data row10 col6\" >0.0708</td>\n",
       "            </tr>\n",
       "            <tr>\n",
       "                        <th id=\"T_16443_level0_row11\" class=\"row_heading level0 row11\" >SD</th>\n",
       "                        <td id=\"T_16443_row11_col0\" class=\"data row11 col0\" >0.0084</td>\n",
       "                        <td id=\"T_16443_row11_col1\" class=\"data row11 col1\" >0.0222</td>\n",
       "                        <td id=\"T_16443_row11_col2\" class=\"data row11 col2\" >0.0415</td>\n",
       "                        <td id=\"T_16443_row11_col3\" class=\"data row11 col3\" >0.0382</td>\n",
       "                        <td id=\"T_16443_row11_col4\" class=\"data row11 col4\" >0.0381</td>\n",
       "                        <td id=\"T_16443_row11_col5\" class=\"data row11 col5\" >0.0411</td>\n",
       "                        <td id=\"T_16443_row11_col6\" class=\"data row11 col6\" >0.0414</td>\n",
       "            </tr>\n",
       "    </tbody></table>"
      ],
      "text/plain": [
       "<pandas.io.formats.style.Styler at 0x1b989ba5310>"
      ]
     },
     "metadata": {},
     "output_type": "display_data"
    }
   ],
   "source": [
    "dt = create_model('dt')"
   ]
  },
  {
   "cell_type": "code",
   "execution_count": 26,
   "metadata": {},
   "outputs": [
    {
     "name": "stdout",
     "output_type": "stream",
     "text": [
      "DecisionTreeClassifier(ccp_alpha=0.0, class_weight=None, criterion='gini',\n",
      "                       max_depth=None, max_features=None, max_leaf_nodes=None,\n",
      "                       min_impurity_decrease=0.0, min_impurity_split=None,\n",
      "                       min_samples_leaf=1, min_samples_split=2,\n",
      "                       min_weight_fraction_leaf=0.0, random_state=123,\n",
      "                       splitter='best')\n"
     ]
    }
   ],
   "source": [
    "print(dt)"
   ]
  },
  {
   "cell_type": "markdown",
   "metadata": {},
   "source": [
    "#### Obs.: Modelo Decision Tree apresentou menos Recall = 0"
   ]
  },
  {
   "cell_type": "markdown",
   "metadata": {},
   "source": [
    "## Avaliando as Matrizes Cruzadas\n"
   ]
  },
  {
   "cell_type": "markdown",
   "metadata": {},
   "source": [
    "### Quadratic Discriminant Analysis"
   ]
  },
  {
   "cell_type": "code",
   "execution_count": 27,
   "metadata": {},
   "outputs": [
    {
     "data": {
      "image/png": "[encoded data removed]",
      "text/plain": [
       "<Figure size 576x396 with 1 Axes>"
      ]
     },
     "metadata": {},
     "output_type": "display_data"
    }
   ],
   "source": [
    "plot_model(create_model('qda'), plot = 'confusion_matrix')"
   ]
  },
  {
   "cell_type": "markdown",
   "metadata": {},
   "source": [
    "### Decision Tree Classifier"
   ]
  },
  {
   "cell_type": "code",
   "execution_count": 28,
   "metadata": {},
   "outputs": [
    {
     "data": {
      "image/png": "[encoded data removed]",
      "text/plain": [
       "<Figure size 576x396 with 1 Axes>"
      ]
     },
     "metadata": {},
     "output_type": "display_data"
    }
   ],
   "source": [
    "plot_model(create_model('dt'), plot = 'confusion_matrix')"
   ]
  },
  {
   "cell_type": "markdown",
   "metadata": {},
   "source": [
    "Observa-se que 25% dos AVCs levam a morte do paciênte.\n",
    "\n",
    "fonte: encurtador.com.br/iAHR8"
   ]
  },
  {
   "cell_type": "markdown",
   "metadata": {},
   "source": [
    "#### Conclusões:\n",
    "Olhando para os números é razoável utilizar um modelo que erre mais, mas que salve mais vidas. Pois, mesmo que o modelo 'qda' leve 631 pessoas ao hospital sem necessidade, não vai por em risco a vida de 44 pessoas, potencialmente levando a morte de 1/4 desses, como observado no modelo 'dt'."
   ]
  },
  {
   "cell_type": "markdown",
   "metadata": {},
   "source": [
    "## Aprimorando o Modelo Escolhido - Quadratic Discriminant Analysis"
   ]
  },
  {
   "cell_type": "code",
   "execution_count": 29,
   "metadata": {},
   "outputs": [
    {
     "data": {
      "text/html": [
       "<style  type=\"text/css\" >\n",
       "#T_50382_row10_col0,#T_50382_row10_col1,#T_50382_row10_col2,#T_50382_row10_col3,#T_50382_row10_col4,#T_50382_row10_col5,#T_50382_row10_col6{\n",
       "            background:  yellow;\n",
       "        }</style><table id=\"T_50382_\" ><thead>    <tr>        <th class=\"blank level0\" ></th>        <th class=\"col_heading level0 col0\" >Accuracy</th>        <th class=\"col_heading level0 col1\" >AUC</th>        <th class=\"col_heading level0 col2\" >Recall</th>        <th class=\"col_heading level0 col3\" >Prec.</th>        <th class=\"col_heading level0 col4\" >F1</th>        <th class=\"col_heading level0 col5\" >Kappa</th>        <th class=\"col_heading level0 col6\" >MCC</th>    </tr></thead><tbody>\n",
       "                <tr>\n",
       "                        <th id=\"T_50382_level0_row0\" class=\"row_heading level0 row0\" >0</th>\n",
       "                        <td id=\"T_50382_row0_col0\" class=\"data row0 col0\" >0.7387</td>\n",
       "                        <td id=\"T_50382_row0_col1\" class=\"data row0 col1\" >0.8712</td>\n",
       "                        <td id=\"T_50382_row0_col2\" class=\"data row0 col2\" >0.8667</td>\n",
       "                        <td id=\"T_50382_row0_col3\" class=\"data row0 col3\" >0.1512</td>\n",
       "                        <td id=\"T_50382_row0_col4\" class=\"data row0 col4\" >0.2574</td>\n",
       "                        <td id=\"T_50382_row0_col5\" class=\"data row0 col5\" >0.1849</td>\n",
       "                        <td id=\"T_50382_row0_col6\" class=\"data row0 col6\" >0.2907</td>\n",
       "            </tr>\n",
       "            <tr>\n",
       "                        <th id=\"T_50382_level0_row1\" class=\"row_heading level0 row1\" >1</th>\n",
       "                        <td id=\"T_50382_row1_col0\" class=\"data row1 col0\" >0.7203</td>\n",
       "                        <td id=\"T_50382_row1_col1\" class=\"data row1 col1\" >0.8093</td>\n",
       "                        <td id=\"T_50382_row1_col2\" class=\"data row1 col2\" >0.7143</td>\n",
       "                        <td id=\"T_50382_row1_col3\" class=\"data row1 col3\" >0.1163</td>\n",
       "                        <td id=\"T_50382_row1_col4\" class=\"data row1 col4\" >0.2000</td>\n",
       "                        <td id=\"T_50382_row1_col5\" class=\"data row1 col5\" >0.1265</td>\n",
       "                        <td id=\"T_50382_row1_col6\" class=\"data row1 col6\" >0.2046</td>\n",
       "            </tr>\n",
       "            <tr>\n",
       "                        <th id=\"T_50382_level0_row2\" class=\"row_heading level0 row2\" >2</th>\n",
       "                        <td id=\"T_50382_row2_col0\" class=\"data row2 col0\" >0.7098</td>\n",
       "                        <td id=\"T_50382_row2_col1\" class=\"data row2 col1\" >0.8468</td>\n",
       "                        <td id=\"T_50382_row2_col2\" class=\"data row2 col2\" >0.8571</td>\n",
       "                        <td id=\"T_50382_row2_col3\" class=\"data row2 col3\" >0.1290</td>\n",
       "                        <td id=\"T_50382_row2_col4\" class=\"data row2 col4\" >0.2243</td>\n",
       "                        <td id=\"T_50382_row2_col5\" class=\"data row2 col5\" >0.1522</td>\n",
       "                        <td id=\"T_50382_row2_col6\" class=\"data row2 col6\" >0.2576</td>\n",
       "            </tr>\n",
       "            <tr>\n",
       "                        <th id=\"T_50382_level0_row3\" class=\"row_heading level0 row3\" >3</th>\n",
       "                        <td id=\"T_50382_row3_col0\" class=\"data row3 col0\" >0.6853</td>\n",
       "                        <td id=\"T_50382_row3_col1\" class=\"data row3 col1\" >0.8193</td>\n",
       "                        <td id=\"T_50382_row3_col2\" class=\"data row3 col2\" >0.8667</td>\n",
       "                        <td id=\"T_50382_row3_col3\" class=\"data row3 col3\" >0.1287</td>\n",
       "                        <td id=\"T_50382_row3_col4\" class=\"data row3 col4\" >0.2241</td>\n",
       "                        <td id=\"T_50382_row3_col5\" class=\"data row3 col5\" >0.1462</td>\n",
       "                        <td id=\"T_50382_row3_col6\" class=\"data row3 col6\" >0.2528</td>\n",
       "            </tr>\n",
       "            <tr>\n",
       "                        <th id=\"T_50382_level0_row4\" class=\"row_heading level0 row4\" >4</th>\n",
       "                        <td id=\"T_50382_row4_col0\" class=\"data row4 col0\" >0.6573</td>\n",
       "                        <td id=\"T_50382_row4_col1\" class=\"data row4 col1\" >0.7833</td>\n",
       "                        <td id=\"T_50382_row4_col2\" class=\"data row4 col2\" >0.7333</td>\n",
       "                        <td id=\"T_50382_row4_col3\" class=\"data row4 col3\" >0.1048</td>\n",
       "                        <td id=\"T_50382_row4_col4\" class=\"data row4 col4\" >0.1833</td>\n",
       "                        <td id=\"T_50382_row4_col5\" class=\"data row4 col5\" >0.1008</td>\n",
       "                        <td id=\"T_50382_row4_col6\" class=\"data row4 col6\" >0.1787</td>\n",
       "            </tr>\n",
       "            <tr>\n",
       "                        <th id=\"T_50382_level0_row5\" class=\"row_heading level0 row5\" >5</th>\n",
       "                        <td id=\"T_50382_row5_col0\" class=\"data row5 col0\" >0.7133</td>\n",
       "                        <td id=\"T_50382_row5_col1\" class=\"data row5 col1\" >0.8210</td>\n",
       "                        <td id=\"T_50382_row5_col2\" class=\"data row5 col2\" >0.8000</td>\n",
       "                        <td id=\"T_50382_row5_col3\" class=\"data row5 col3\" >0.1319</td>\n",
       "                        <td id=\"T_50382_row5_col4\" class=\"data row5 col4\" >0.2264</td>\n",
       "                        <td id=\"T_50382_row5_col5\" class=\"data row5 col5\" >0.1499</td>\n",
       "                        <td id=\"T_50382_row5_col6\" class=\"data row5 col6\" >0.2434</td>\n",
       "            </tr>\n",
       "            <tr>\n",
       "                        <th id=\"T_50382_level0_row6\" class=\"row_heading level0 row6\" >6</th>\n",
       "                        <td id=\"T_50382_row6_col0\" class=\"data row6 col0\" >0.6853</td>\n",
       "                        <td id=\"T_50382_row6_col1\" class=\"data row6 col1\" >0.7689</td>\n",
       "                        <td id=\"T_50382_row6_col2\" class=\"data row6 col2\" >0.6667</td>\n",
       "                        <td id=\"T_50382_row6_col3\" class=\"data row6 col3\" >0.1053</td>\n",
       "                        <td id=\"T_50382_row6_col4\" class=\"data row6 col4\" >0.1818</td>\n",
       "                        <td id=\"T_50382_row6_col5\" class=\"data row6 col5\" >0.1003</td>\n",
       "                        <td id=\"T_50382_row6_col6\" class=\"data row6 col6\" >0.1671</td>\n",
       "            </tr>\n",
       "            <tr>\n",
       "                        <th id=\"T_50382_level0_row7\" class=\"row_heading level0 row7\" >7</th>\n",
       "                        <td id=\"T_50382_row7_col0\" class=\"data row7 col0\" >0.7168</td>\n",
       "                        <td id=\"T_50382_row7_col1\" class=\"data row7 col1\" >0.8301</td>\n",
       "                        <td id=\"T_50382_row7_col2\" class=\"data row7 col2\" >0.7333</td>\n",
       "                        <td id=\"T_50382_row7_col3\" class=\"data row7 col3\" >0.1250</td>\n",
       "                        <td id=\"T_50382_row7_col4\" class=\"data row7 col4\" >0.2136</td>\n",
       "                        <td id=\"T_50382_row7_col5\" class=\"data row7 col5\" >0.1362</td>\n",
       "                        <td id=\"T_50382_row7_col6\" class=\"data row7 col6\" >0.2170</td>\n",
       "            </tr>\n",
       "            <tr>\n",
       "                        <th id=\"T_50382_level0_row8\" class=\"row_heading level0 row8\" >8</th>\n",
       "                        <td id=\"T_50382_row8_col0\" class=\"data row8 col0\" >0.6853</td>\n",
       "                        <td id=\"T_50382_row8_col1\" class=\"data row8 col1\" >0.8765</td>\n",
       "                        <td id=\"T_50382_row8_col2\" class=\"data row8 col2\" >0.9333</td>\n",
       "                        <td id=\"T_50382_row8_col3\" class=\"data row8 col3\" >0.1359</td>\n",
       "                        <td id=\"T_50382_row8_col4\" class=\"data row8 col4\" >0.2373</td>\n",
       "                        <td id=\"T_50382_row8_col5\" class=\"data row8 col5\" >0.1604</td>\n",
       "                        <td id=\"T_50382_row8_col6\" class=\"data row8 col6\" >0.2809</td>\n",
       "            </tr>\n",
       "            <tr>\n",
       "                        <th id=\"T_50382_level0_row9\" class=\"row_heading level0 row9\" >9</th>\n",
       "                        <td id=\"T_50382_row9_col0\" class=\"data row9 col0\" >0.7133</td>\n",
       "                        <td id=\"T_50382_row9_col1\" class=\"data row9 col1\" >0.7897</td>\n",
       "                        <td id=\"T_50382_row9_col2\" class=\"data row9 col2\" >0.7333</td>\n",
       "                        <td id=\"T_50382_row9_col3\" class=\"data row9 col3\" >0.1236</td>\n",
       "                        <td id=\"T_50382_row9_col4\" class=\"data row9 col4\" >0.2115</td>\n",
       "                        <td id=\"T_50382_row9_col5\" class=\"data row9 col5\" >0.1338</td>\n",
       "                        <td id=\"T_50382_row9_col6\" class=\"data row9 col6\" >0.2145</td>\n",
       "            </tr>\n",
       "            <tr>\n",
       "                        <th id=\"T_50382_level0_row10\" class=\"row_heading level0 row10\" >Mean</th>\n",
       "                        <td id=\"T_50382_row10_col0\" class=\"data row10 col0\" >0.7025</td>\n",
       "                        <td id=\"T_50382_row10_col1\" class=\"data row10 col1\" >0.8216</td>\n",
       "                        <td id=\"T_50382_row10_col2\" class=\"data row10 col2\" >0.7905</td>\n",
       "                        <td id=\"T_50382_row10_col3\" class=\"data row10 col3\" >0.1252</td>\n",
       "                        <td id=\"T_50382_row10_col4\" class=\"data row10 col4\" >0.2160</td>\n",
       "                        <td id=\"T_50382_row10_col5\" class=\"data row10 col5\" >0.1391</td>\n",
       "                        <td id=\"T_50382_row10_col6\" class=\"data row10 col6\" >0.2307</td>\n",
       "            </tr>\n",
       "            <tr>\n",
       "                        <th id=\"T_50382_level0_row11\" class=\"row_heading level0 row11\" >SD</th>\n",
       "                        <td id=\"T_50382_row11_col0\" class=\"data row11 col0\" >0.0224</td>\n",
       "                        <td id=\"T_50382_row11_col1\" class=\"data row11 col1\" >0.0341</td>\n",
       "                        <td id=\"T_50382_row11_col2\" class=\"data row11 col2\" >0.0821</td>\n",
       "                        <td id=\"T_50382_row11_col3\" class=\"data row11 col3\" >0.0133</td>\n",
       "                        <td id=\"T_50382_row11_col4\" class=\"data row11 col4\" >0.0222</td>\n",
       "                        <td id=\"T_50382_row11_col5\" class=\"data row11 col5\" >0.0246</td>\n",
       "                        <td id=\"T_50382_row11_col6\" class=\"data row11 col6\" >0.0392</td>\n",
       "            </tr>\n",
       "    </tbody></table>"
      ],
      "text/plain": [
       "<pandas.io.formats.style.Styler at 0x1b98cd90880>"
      ]
     },
     "metadata": {},
     "output_type": "display_data"
    }
   ],
   "source": [
    "qda_tunado = tune_model(qda, optimize= 'Recall')"
   ]
  },
  {
   "cell_type": "code",
   "execution_count": null,
   "metadata": {},
   "outputs": [],
   "source": [
    "print(qda_tunado)"
   ]
  },
  {
   "cell_type": "markdown",
   "metadata": {},
   "source": [
    "### Métricas do Modelo"
   ]
  },
  {
   "cell_type": "code",
   "execution_count": null,
   "metadata": {},
   "outputs": [],
   "source": [
    "evaluate_model(qda_tunado)"
   ]
  },
  {
   "cell_type": "markdown",
   "metadata": {},
   "source": [
    "### Aplicando o modelo na base de teste"
   ]
  },
  {
   "cell_type": "code",
   "execution_count": null,
   "metadata": {},
   "outputs": [],
   "source": [
    "predict_model(qda_tunado)"
   ]
  },
  {
   "cell_type": "markdown",
   "metadata": {},
   "source": [
    "### Finalizando o modelo"
   ]
  },
  {
   "cell_type": "markdown",
   "metadata": {},
   "source": [
    "Todos os dados de 'df' são usados no treino do modelo, não há mais a partição entre treino/teste."
   ]
  },
  {
   "cell_type": "code",
   "execution_count": null,
   "metadata": {},
   "outputs": [],
   "source": [
    "qda_final = finalize_model(qda_tunado)"
   ]
  },
  {
   "cell_type": "code",
   "execution_count": null,
   "metadata": {},
   "outputs": [],
   "source": [
    "print(qda_final)"
   ]
  },
  {
   "cell_type": "markdown",
   "metadata": {},
   "source": [
    "### Aplicando o modelo nos dados de validação"
   ]
  },
  {
   "cell_type": "code",
   "execution_count": null,
   "metadata": {},
   "outputs": [],
   "source": [
    "unseen_predictions = predict_model(final_rf, data=data_unseen)"
   ]
  },
  {
   "cell_type": "code",
   "execution_count": null,
   "metadata": {},
   "outputs": [],
   "source": []
  },
  {
   "cell_type": "code",
   "execution_count": null,
   "metadata": {},
   "outputs": [],
   "source": []
  },
  {
   "cell_type": "code",
   "execution_count": null,
   "metadata": {},
   "outputs": [],
   "source": []
  },
  {
   "cell_type": "code",
   "execution_count": null,
   "metadata": {},
   "outputs": [],
   "source": []
  },
  {
   "cell_type": "code",
   "execution_count": null,
   "metadata": {},
   "outputs": [],
   "source": []
  },
  {
   "cell_type": "code",
   "execution_count": null,
   "metadata": {},
   "outputs": [],
   "source": []
  },
  {
   "cell_type": "code",
   "execution_count": null,
   "metadata": {},
   "outputs": [],
   "source": []
  },
  {
   "cell_type": "markdown",
   "metadata": {},
   "source": [
    "#### Retirando \"Outros\" do gênero"
   ]
  },
  {
   "cell_type": "code",
   "execution_count": 4,
   "metadata": {},
   "outputs": [
    {
     "data": {
      "text/plain": [
       "gender\n",
       "Female    2994\n",
       "Male      2115\n",
       "Other        1\n",
       "Name: id, dtype: int64"
      ]
     },
     "execution_count": 4,
     "metadata": {},
     "output_type": "execute_result"
    }
   ],
   "source": [
    "df_bruto.groupby(['gender']).id.count()"
   ]
  },
  {
   "cell_type": "code",
   "execution_count": 5,
   "metadata": {},
   "outputs": [],
   "source": [
    "df_bruto = df_bruto[df_bruto.gender != 'Other']"
   ]
  },
  {
   "cell_type": "markdown",
   "metadata": {},
   "source": [
    "#### Alterando os dados para categórico"
   ]
  },
  {
   "cell_type": "raw",
   "metadata": {},
   "source": [
    "df_bruto.gender.replace({'Male': 1, 'Female': 0}, inplace=True)\n",
    "\n",
    "df_bruto.ever_married.replace({'No': 0, 'Yes': 1}, inplace=True)\n",
    "\n",
    "df_bruto.work_type.replace({'Private': 0, 'Self-employed': 1, 'children': 2,'Govt_job':3,'Never_worked':4}, inplace=True)\n",
    "\n",
    "df_bruto.Residence_type.replace({'Urban': 0, 'Rural': 1}, inplace=True)\n",
    "\n",
    "df_bruto.smoking_status.replace({'never smoked': 0, 'Unknown': 1,'formerly smoked':2,'smokes':3}, inplace=True)"
   ]
  },
  {
   "cell_type": "code",
   "execution_count": null,
   "metadata": {},
   "outputs": [],
   "source": []
  },
  {
   "cell_type": "code",
   "execution_count": null,
   "metadata": {},
   "outputs": [],
   "source": []
  },
  {
   "cell_type": "code",
   "execution_count": null,
   "metadata": {},
   "outputs": [],
   "source": []
  },
  {
   "cell_type": "code",
   "execution_count": null,
   "metadata": {},
   "outputs": [],
   "source": []
  }
 ],
 "metadata": {
  "kernelspec": {
   "display_name": "Python 3",
   "language": "python",
   "name": "python3"
  },
  "language_info": {
   "codemirror_mode": {
    "name": "ipython",
    "version": 3
   },
   "file_extension": ".py",
   "mimetype": "text/x-python",
   "name": "python",
   "nbconvert_exporter": "python",
   "pygments_lexer": "ipython3",
   "version": "3.8.5"
  }
 },
 "nbformat": 4,
 "nbformat_minor": 4
}
